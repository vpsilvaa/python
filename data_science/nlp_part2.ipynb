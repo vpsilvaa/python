{
 "cells": [
  {
   "cell_type": "code",
   "execution_count": 1,
   "id": "a3c29c53",
   "metadata": {
    "_cell_guid": "b1076dfc-b9ad-4769-8c92-a6c4dae69d19",
    "_uuid": "8f2839f25d086af736a60e9eeb907d3b93b6e0e5",
    "execution": {
     "iopub.execute_input": "2025-01-08T01:23:17.580766Z",
     "iopub.status.busy": "2025-01-08T01:23:17.580376Z",
     "iopub.status.idle": "2025-01-08T01:23:17.958045Z",
     "shell.execute_reply": "2025-01-08T01:23:17.956419Z"
    },
    "papermill": {
     "duration": 0.39341,
     "end_time": "2025-01-08T01:23:17.960057",
     "exception": false,
     "start_time": "2025-01-08T01:23:17.566647",
     "status": "completed"
    },
    "tags": []
   },
   "outputs": [
    {
     "name": "stdout",
     "output_type": "stream",
     "text": [
      "/kaggle/input/stackoverflow/stackoverflow_espanhol.csv\n",
      "/kaggle/input/stackoverflow/stackoverflow_ingles.csv\n",
      "/kaggle/input/stackoverflow/stackoverflow_portugues.csv\n"
     ]
    }
   ],
   "source": [
    "# This Python 3 environment comes with many helpful analytics libraries installed\n",
    "# It is defined by the kaggle/python Docker image: https://github.com/kaggle/docker-python\n",
    "# For example, here's several helpful packages to load\n",
    "\n",
    "import numpy as np # linear algebra\n",
    "import pandas as pd # data processing, CSV file I/O (e.g. pd.read_csv)\n",
    "\n",
    "# Input data files are available in the read-only \"../input/\" directory\n",
    "# For example, running this (by clicking run or pressing Shift+Enter) will list all files under the input directory\n",
    "\n",
    "import os\n",
    "for dirname, _, filenames in os.walk('/kaggle/input'):\n",
    "    for filename in filenames:\n",
    "        print(os.path.join(dirname, filename))\n",
    "\n",
    "# You can write up to 20GB to the current directory (/kaggle/working/) that gets preserved as output when you create a version using \"Save & Run All\" \n",
    "# You can also write temporary files to /kaggle/temp/, but they won't be saved outside of the current session"
   ]
  },
  {
   "cell_type": "code",
   "execution_count": 2,
   "id": "321e7ece",
   "metadata": {
    "execution": {
     "iopub.execute_input": "2025-01-08T01:23:17.984569Z",
     "iopub.status.busy": "2025-01-08T01:23:17.984044Z",
     "iopub.status.idle": "2025-01-08T01:23:18.043288Z",
     "shell.execute_reply": "2025-01-08T01:23:18.042178Z"
    },
    "papermill": {
     "duration": 0.072764,
     "end_time": "2025-01-08T01:23:18.044982",
     "exception": false,
     "start_time": "2025-01-08T01:23:17.972218",
     "status": "completed"
    },
    "tags": []
   },
   "outputs": [
    {
     "data": {
      "text/html": [
       "<div>\n",
       "<style scoped>\n",
       "    .dataframe tbody tr th:only-of-type {\n",
       "        vertical-align: middle;\n",
       "    }\n",
       "\n",
       "    .dataframe tbody tr th {\n",
       "        vertical-align: top;\n",
       "    }\n",
       "\n",
       "    .dataframe thead th {\n",
       "        text-align: right;\n",
       "    }\n",
       "</style>\n",
       "<table border=\"1\" class=\"dataframe\">\n",
       "  <thead>\n",
       "    <tr style=\"text-align: right;\">\n",
       "      <th></th>\n",
       "      <th>Id</th>\n",
       "      <th>Título</th>\n",
       "      <th>Questão</th>\n",
       "      <th>Tags</th>\n",
       "      <th>Pontuação</th>\n",
       "      <th>Visualizações</th>\n",
       "    </tr>\n",
       "  </thead>\n",
       "  <tbody>\n",
       "    <tr>\n",
       "      <th>0</th>\n",
       "      <td>2402</td>\n",
       "      <td>Como fazer hash de senhas de forma segura?</td>\n",
       "      <td>&lt;p&gt;Se eu fizer o &lt;em&gt;&lt;a href=\"http://pt.wikipe...</td>\n",
       "      <td>&lt;hash&gt;&lt;segurança&gt;&lt;senhas&gt;&lt;criptografia&gt;</td>\n",
       "      <td>350</td>\n",
       "      <td>22367</td>\n",
       "    </tr>\n",
       "    <tr>\n",
       "      <th>1</th>\n",
       "      <td>6441</td>\n",
       "      <td>Qual é a diferença entre INNER JOIN e OUTER JOIN?</td>\n",
       "      <td>&lt;p&gt;Qual é a diferença entre &lt;code&gt;INNER JOIN&lt;/...</td>\n",
       "      <td>&lt;sql&gt;&lt;join&gt;</td>\n",
       "      <td>276</td>\n",
       "      <td>176953</td>\n",
       "    </tr>\n",
       "    <tr>\n",
       "      <th>2</th>\n",
       "      <td>579</td>\n",
       "      <td>Por que não devemos usar funções do tipo mysql_*?</td>\n",
       "      <td>&lt;p&gt;Uma dúvida muito comum é por que devemos pa...</td>\n",
       "      <td>&lt;php&gt;&lt;mysql&gt;</td>\n",
       "      <td>226</td>\n",
       "      <td>9761</td>\n",
       "    </tr>\n",
       "    <tr>\n",
       "      <th>3</th>\n",
       "      <td>2539</td>\n",
       "      <td>As mensagens de erro devem se desculpar?</td>\n",
       "      <td>&lt;p&gt;É comum encontrar uma mensagem de erro que ...</td>\n",
       "      <td>&lt;aplicação-web&gt;&lt;gui&gt;&lt;console&gt;&lt;ux&gt;</td>\n",
       "      <td>214</td>\n",
       "      <td>5075</td>\n",
       "    </tr>\n",
       "    <tr>\n",
       "      <th>4</th>\n",
       "      <td>17501</td>\n",
       "      <td>Qual é a diferença de API, biblioteca e Framew...</td>\n",
       "      <td>&lt;p&gt;Me parecem termos muito próximos e eventual...</td>\n",
       "      <td>&lt;api&gt;&lt;framework&gt;&lt;terminologia&gt;&lt;biblioteca&gt;</td>\n",
       "      <td>193</td>\n",
       "      <td>54191</td>\n",
       "    </tr>\n",
       "  </tbody>\n",
       "</table>\n",
       "</div>"
      ],
      "text/plain": [
       "      Id                                             Título  \\\n",
       "0   2402         Como fazer hash de senhas de forma segura?   \n",
       "1   6441  Qual é a diferença entre INNER JOIN e OUTER JOIN?   \n",
       "2    579  Por que não devemos usar funções do tipo mysql_*?   \n",
       "3   2539           As mensagens de erro devem se desculpar?   \n",
       "4  17501  Qual é a diferença de API, biblioteca e Framew...   \n",
       "\n",
       "                                             Questão  \\\n",
       "0  <p>Se eu fizer o <em><a href=\"http://pt.wikipe...   \n",
       "1  <p>Qual é a diferença entre <code>INNER JOIN</...   \n",
       "2  <p>Uma dúvida muito comum é por que devemos pa...   \n",
       "3  <p>É comum encontrar uma mensagem de erro que ...   \n",
       "4  <p>Me parecem termos muito próximos e eventual...   \n",
       "\n",
       "                                         Tags  Pontuação  Visualizações  \n",
       "0     <hash><segurança><senhas><criptografia>        350          22367  \n",
       "1                                 <sql><join>        276         176953  \n",
       "2                                <php><mysql>        226           9761  \n",
       "3           <aplicação-web><gui><console><ux>        214           5075  \n",
       "4  <api><framework><terminologia><biblioteca>        193          54191  "
      ]
     },
     "execution_count": 2,
     "metadata": {},
     "output_type": "execute_result"
    }
   ],
   "source": [
    "dados_portugues = pd.read_csv('/kaggle/input/stackoverflow/stackoverflow_portugues.csv')\n",
    "dados_portugues.head()"
   ]
  },
  {
   "cell_type": "code",
   "execution_count": 3,
   "id": "f919e896",
   "metadata": {
    "execution": {
     "iopub.execute_input": "2025-01-08T01:23:18.068527Z",
     "iopub.status.busy": "2025-01-08T01:23:18.068146Z",
     "iopub.status.idle": "2025-01-08T01:23:18.073391Z",
     "shell.execute_reply": "2025-01-08T01:23:18.072164Z"
    },
    "papermill": {
     "duration": 0.018939,
     "end_time": "2025-01-08T01:23:18.075169",
     "exception": false,
     "start_time": "2025-01-08T01:23:18.056230",
     "status": "completed"
    },
    "tags": []
   },
   "outputs": [
    {
     "name": "stdout",
     "output_type": "stream",
     "text": [
      "<p>O que são esses tais de <em>stack</em> e <em>heap</em> que tanto se fala em gerenciamento de memória?</p>\n",
      "\n",
      "<p>Isso realmente são porções da memória como algumas pessoas falam ou é apenas um conceito abstrato para facilitar o entendimento da forma como se gerencia a memória?</p>\n",
      "\n",
      "<p>Algum deles é mais rápido que o outro? Se um é claramente mais rápido, por que existe o outro?</p>\n",
      "\n",
      "<p>Faz diferença se estou usando, por exemplo, Assembly, C, Java, ou Javascript, Windows ou Linux? Isso é controlado pela \"linguagem\" ou pelo sistema operacional?</p>\n",
      "\n",
      "<p>Enfim, queria entender melhor esse conceito que parece ser mal compreendido pelos programadores. Seria muito útil uma explicação para quem está começando ou aprendeu isso de forma errada.</p>\n",
      "\n"
     ]
    }
   ],
   "source": [
    "print(dados_portugues.Questão[6])"
   ]
  },
  {
   "cell_type": "markdown",
   "id": "1a9324e5",
   "metadata": {
    "papermill": {
     "duration": 0.01121,
     "end_time": "2025-01-08T01:23:18.098230",
     "exception": false,
     "start_time": "2025-01-08T01:23:18.087020",
     "status": "completed"
    },
    "tags": []
   },
   "source": [
    "# Tratamento do dataset"
   ]
  },
  {
   "cell_type": "markdown",
   "id": "f153c82a",
   "metadata": {
    "papermill": {
     "duration": 0.011328,
     "end_time": "2025-01-08T01:23:18.120788",
     "exception": false,
     "start_time": "2025-01-08T01:23:18.109460",
     "status": "completed"
    },
    "tags": []
   },
   "source": [
    "Necessário remover alguns caracteres que não influenciam no modelo.\n",
    "Exemplo: textos html"
   ]
  },
  {
   "cell_type": "code",
   "execution_count": 4,
   "id": "f1cf8d54",
   "metadata": {
    "execution": {
     "iopub.execute_input": "2025-01-08T01:23:18.144071Z",
     "iopub.status.busy": "2025-01-08T01:23:18.143730Z",
     "iopub.status.idle": "2025-01-08T01:23:18.150233Z",
     "shell.execute_reply": "2025-01-08T01:23:18.149355Z"
    },
    "papermill": {
     "duration": 0.02008,
     "end_time": "2025-01-08T01:23:18.151892",
     "exception": false,
     "start_time": "2025-01-08T01:23:18.131812",
     "status": "completed"
    },
    "tags": []
   },
   "outputs": [
    {
     "data": {
      "text/plain": [
       "['<p>',\n",
       " '</p>',\n",
       " '<pre>',\n",
       " '<code>',\n",
       " '</code>',\n",
       " '</pre>',\n",
       " '<p>',\n",
       " '<code>',\n",
       " '</code>',\n",
       " '<code>',\n",
       " '</code>',\n",
       " '</p>',\n",
       " '<pre>',\n",
       " '<code>',\n",
       " '</code>',\n",
       " '</pre>',\n",
       " '<p>',\n",
       " '<code>',\n",
       " '</code>',\n",
       " '<code>',\n",
       " '</code>',\n",
       " '</p>',\n",
       " '<p>',\n",
       " '</p>']"
      ]
     },
     "execution_count": 4,
     "metadata": {},
     "output_type": "execute_result"
    }
   ],
   "source": [
    "import re\n",
    "\n",
    "questao_portugues = dados_portugues.Questão[5]\n",
    "re.findall(r'<.*?>', questao_portugues)"
   ]
  },
  {
   "cell_type": "code",
   "execution_count": 5,
   "id": "6822d9ce",
   "metadata": {
    "execution": {
     "iopub.execute_input": "2025-01-08T01:23:18.176341Z",
     "iopub.status.busy": "2025-01-08T01:23:18.175962Z",
     "iopub.status.idle": "2025-01-08T01:23:18.180715Z",
     "shell.execute_reply": "2025-01-08T01:23:18.179627Z"
    },
    "papermill": {
     "duration": 0.01881,
     "end_time": "2025-01-08T01:23:18.182386",
     "exception": false,
     "start_time": "2025-01-08T01:23:18.163576",
     "status": "completed"
    },
    "tags": []
   },
   "outputs": [
    {
     "name": "stdout",
     "output_type": "stream",
     "text": [
      "t----e----s----t-----eDesenvolvi uma página em PHP para uso interno da empresa que trabalho e apenas pouquíssimas pessoas a utilizam. Através dessa página é possível fazer algumas consultas, inserções, alterações e remoções de dados de uma tabela em um banco de dados MySQL, porém eu acredito que meu código em PHP não está protegido contra injeção de código SQL, por exemplo:t----e----s----t-----e\n",
      "\n",
      "t----e----s----t-----et----e----s----t-----e//----CONSULTA SQL----//\n",
      "$busca = mysql_query ('insert into Produtos (coluna) values(' . $valor . ')');\n",
      "t----e----s----t-----et----e----s----t-----e\n",
      "\n",
      "t----e----s----t-----eLogo, digamos que o usuário usar a sentença: t----e----s----t-----e1); DROP TABLE Produtos;t----e----s----t-----e para ao campo t----e----s----t-----evalort----e----s----t-----e o comando ficaria: t----e----s----t-----e\n",
      "\n",
      "t----e----s----t-----et----e----s----t-----einsert into Produtos (coluna) values(1); DROP TABLE Produtos;\n",
      "t----e----s----t-----et----e----s----t-----e\n",
      "\n",
      "t----e----s----t-----eEle vai inserir um novo registro cujo o campo t----e----s----t-----ecolunat----e----s----t-----e será t----e----s----t-----e1t----e----s----t-----e e logo em seguida ele vai deletar a tabela Produtos.t----e----s----t-----e\n",
      "\n",
      "t----e----s----t-----eComo posso melhorar meu código para prevenir essa situação?t----e----s----t-----e\n",
      "\n"
     ]
    }
   ],
   "source": [
    "teste = re.sub(r'<.*?>', 't----e----s----t-----e', questao_portugues)\n",
    "print(teste)"
   ]
  },
  {
   "cell_type": "code",
   "execution_count": 6,
   "id": "7ddec2c2",
   "metadata": {
    "execution": {
     "iopub.execute_input": "2025-01-08T01:23:18.206584Z",
     "iopub.status.busy": "2025-01-08T01:23:18.206172Z",
     "iopub.status.idle": "2025-01-08T01:23:18.211845Z",
     "shell.execute_reply": "2025-01-08T01:23:18.210952Z"
    },
    "papermill": {
     "duration": 0.019603,
     "end_time": "2025-01-08T01:23:18.213563",
     "exception": false,
     "start_time": "2025-01-08T01:23:18.193960",
     "status": "completed"
    },
    "tags": []
   },
   "outputs": [
    {
     "data": {
      "text/plain": [
       "<re.Match object; span=(8, 10), match='70'>"
      ]
     },
     "execution_count": 6,
     "metadata": {},
     "output_type": "execute_result"
    }
   ],
   "source": [
    "re.search(r'70','dededede70895959570282870')"
   ]
  },
  {
   "cell_type": "code",
   "execution_count": 7,
   "id": "5ccecfbb",
   "metadata": {
    "execution": {
     "iopub.execute_input": "2025-01-08T01:23:18.237968Z",
     "iopub.status.busy": "2025-01-08T01:23:18.237624Z",
     "iopub.status.idle": "2025-01-08T01:23:18.243154Z",
     "shell.execute_reply": "2025-01-08T01:23:18.242112Z"
    },
    "papermill": {
     "duration": 0.019726,
     "end_time": "2025-01-08T01:23:18.245029",
     "exception": false,
     "start_time": "2025-01-08T01:23:18.225303",
     "status": "completed"
    },
    "tags": []
   },
   "outputs": [
    {
     "data": {
      "text/plain": [
       "<re.Match object; span=(8, 10), match='70'>"
      ]
     },
     "execution_count": 7,
     "metadata": {},
     "output_type": "execute_result"
    }
   ],
   "source": [
    "regex = re.compile('70')\n",
    "regex.search('dededede70895959570282870')"
   ]
  },
  {
   "cell_type": "code",
   "execution_count": 8,
   "id": "be57775f",
   "metadata": {
    "execution": {
     "iopub.execute_input": "2025-01-08T01:23:18.269858Z",
     "iopub.status.busy": "2025-01-08T01:23:18.269503Z",
     "iopub.status.idle": "2025-01-08T01:23:18.274335Z",
     "shell.execute_reply": "2025-01-08T01:23:18.273148Z"
    },
    "papermill": {
     "duration": 0.019306,
     "end_time": "2025-01-08T01:23:18.276023",
     "exception": false,
     "start_time": "2025-01-08T01:23:18.256717",
     "status": "completed"
    },
    "tags": []
   },
   "outputs": [],
   "source": [
    "def remover(textos, regex):\n",
    "    if type(textos) == str:\n",
    "        return regex.sub('', textos)\n",
    "    else:\n",
    "        return [regex.sub('', texto) for texto in textos]"
   ]
  },
  {
   "cell_type": "code",
   "execution_count": 9,
   "id": "f23eadb6",
   "metadata": {
    "execution": {
     "iopub.execute_input": "2025-01-08T01:23:18.300493Z",
     "iopub.status.busy": "2025-01-08T01:23:18.300101Z",
     "iopub.status.idle": "2025-01-08T01:23:18.305022Z",
     "shell.execute_reply": "2025-01-08T01:23:18.303953Z"
    },
    "papermill": {
     "duration": 0.018871,
     "end_time": "2025-01-08T01:23:18.306702",
     "exception": false,
     "start_time": "2025-01-08T01:23:18.287831",
     "status": "completed"
    },
    "tags": []
   },
   "outputs": [
    {
     "name": "stdout",
     "output_type": "stream",
     "text": [
      "Desenvolvi uma página em PHP para uso interno da empresa que trabalho e apenas pouquíssimas pessoas a utilizam. Através dessa página é possível fazer algumas consultas, inserções, alterações e remoções de dados de uma tabela em um banco de dados MySQL, porém eu acredito que meu código em PHP não está protegido contra injeção de código SQL, por exemplo:\n",
      "\n",
      "//----CONSULTA SQL----//\n",
      "$busca = mysql_query ('insert into Produtos (coluna) values(' . $valor . ')');\n",
      "\n",
      "\n",
      "Logo, digamos que o usuário usar a sentença: 1); DROP TABLE Produtos; para ao campo valor o comando ficaria: \n",
      "\n",
      "insert into Produtos (coluna) values(1); DROP TABLE Produtos;\n",
      "\n",
      "\n",
      "Ele vai inserir um novo registro cujo o campo coluna será 1 e logo em seguida ele vai deletar a tabela Produtos.\n",
      "\n",
      "Como posso melhorar meu código para prevenir essa situação?\n",
      "\n"
     ]
    }
   ],
   "source": [
    "regex_html = re.compile(r'<.*?>')\n",
    "questao_sem_tag = remover(questao_portugues, regex_html)\n",
    "print(questao_sem_tag)"
   ]
  },
  {
   "cell_type": "markdown",
   "id": "059b0f64",
   "metadata": {
    "papermill": {
     "duration": 0.011117,
     "end_time": "2025-01-08T01:23:18.329456",
     "exception": false,
     "start_time": "2025-01-08T01:23:18.318339",
     "status": "completed"
    },
    "tags": []
   },
   "source": [
    "Substituir alguns caracteres como código"
   ]
  },
  {
   "cell_type": "code",
   "execution_count": 10,
   "id": "32383e09",
   "metadata": {
    "execution": {
     "iopub.execute_input": "2025-01-08T01:23:18.354975Z",
     "iopub.status.busy": "2025-01-08T01:23:18.354646Z",
     "iopub.status.idle": "2025-01-08T01:23:18.359387Z",
     "shell.execute_reply": "2025-01-08T01:23:18.358142Z"
    },
    "papermill": {
     "duration": 0.018896,
     "end_time": "2025-01-08T01:23:18.360932",
     "exception": false,
     "start_time": "2025-01-08T01:23:18.342036",
     "status": "completed"
    },
    "tags": []
   },
   "outputs": [],
   "source": [
    "def substituir_codigo(textos, regex):\n",
    "    if type(textos) == str:\n",
    "        return regex.sub('CODE', textos)\n",
    "    else:\n",
    "        return [regex.sub('CODE', texto) for texto in textos]"
   ]
  },
  {
   "cell_type": "code",
   "execution_count": 11,
   "id": "8e585c76",
   "metadata": {
    "execution": {
     "iopub.execute_input": "2025-01-08T01:23:18.385785Z",
     "iopub.status.busy": "2025-01-08T01:23:18.385454Z",
     "iopub.status.idle": "2025-01-08T01:23:18.390896Z",
     "shell.execute_reply": "2025-01-08T01:23:18.389855Z"
    },
    "papermill": {
     "duration": 0.019732,
     "end_time": "2025-01-08T01:23:18.392647",
     "exception": false,
     "start_time": "2025-01-08T01:23:18.372915",
     "status": "completed"
    },
    "tags": []
   },
   "outputs": [
    {
     "name": "stdout",
     "output_type": "stream",
     "text": [
      "<p>Desenvolvi uma página em PHP para uso interno da empresa que trabalho e apenas pouquíssimas pessoas a utilizam. Através dessa página é possível fazer algumas consultas, inserções, alterações e remoções de dados de uma tabela em um banco de dados MySQL, porém eu acredito que meu código em PHP não está protegido contra injeção de código SQL, por exemplo:</p>\n",
      "\n",
      "<pre>CODE</pre>\n",
      "\n",
      "<p>Logo, digamos que o usuário usar a sentença: CODE para ao campo CODE o comando ficaria: </p>\n",
      "\n",
      "<pre>CODE</pre>\n",
      "\n",
      "<p>Ele vai inserir um novo registro cujo o campo CODE será CODE e logo em seguida ele vai deletar a tabela Produtos.</p>\n",
      "\n",
      "<p>Como posso melhorar meu código para prevenir essa situação?</p>\n",
      "\n"
     ]
    }
   ],
   "source": [
    "regex_codigo = re.compile(r'<code>(.|(\\n))*?</code>')\n",
    "questao_sem_code = substituir_codigo(questao_portugues, regex_codigo)\n",
    "print(questao_sem_code)"
   ]
  },
  {
   "cell_type": "code",
   "execution_count": 12,
   "id": "aca64489",
   "metadata": {
    "execution": {
     "iopub.execute_input": "2025-01-08T01:23:18.419533Z",
     "iopub.status.busy": "2025-01-08T01:23:18.419144Z",
     "iopub.status.idle": "2025-01-08T01:23:18.446861Z",
     "shell.execute_reply": "2025-01-08T01:23:18.446018Z"
    },
    "papermill": {
     "duration": 0.041774,
     "end_time": "2025-01-08T01:23:18.448301",
     "exception": false,
     "start_time": "2025-01-08T01:23:18.406527",
     "status": "completed"
    },
    "tags": []
   },
   "outputs": [
    {
     "data": {
      "text/html": [
       "<div>\n",
       "<style scoped>\n",
       "    .dataframe tbody tr th:only-of-type {\n",
       "        vertical-align: middle;\n",
       "    }\n",
       "\n",
       "    .dataframe tbody tr th {\n",
       "        vertical-align: top;\n",
       "    }\n",
       "\n",
       "    .dataframe thead th {\n",
       "        text-align: right;\n",
       "    }\n",
       "</style>\n",
       "<table border=\"1\" class=\"dataframe\">\n",
       "  <thead>\n",
       "    <tr style=\"text-align: right;\">\n",
       "      <th></th>\n",
       "      <th>Id</th>\n",
       "      <th>Título</th>\n",
       "      <th>Questão</th>\n",
       "      <th>Tags</th>\n",
       "      <th>Pontuação</th>\n",
       "      <th>Visualizações</th>\n",
       "      <th>sem_code_tag</th>\n",
       "    </tr>\n",
       "  </thead>\n",
       "  <tbody>\n",
       "    <tr>\n",
       "      <th>0</th>\n",
       "      <td>2402</td>\n",
       "      <td>Como fazer hash de senhas de forma segura?</td>\n",
       "      <td>&lt;p&gt;Se eu fizer o &lt;em&gt;&lt;a href=\"http://pt.wikipe...</td>\n",
       "      <td>&lt;hash&gt;&lt;segurança&gt;&lt;senhas&gt;&lt;criptografia&gt;</td>\n",
       "      <td>350</td>\n",
       "      <td>22367</td>\n",
       "      <td>Se eu fizer o hash de senhas antes de armazená...</td>\n",
       "    </tr>\n",
       "    <tr>\n",
       "      <th>1</th>\n",
       "      <td>6441</td>\n",
       "      <td>Qual é a diferença entre INNER JOIN e OUTER JOIN?</td>\n",
       "      <td>&lt;p&gt;Qual é a diferença entre &lt;code&gt;INNER JOIN&lt;/...</td>\n",
       "      <td>&lt;sql&gt;&lt;join&gt;</td>\n",
       "      <td>276</td>\n",
       "      <td>176953</td>\n",
       "      <td>Qual é a diferença entre CODE e CODE? Podem me...</td>\n",
       "    </tr>\n",
       "    <tr>\n",
       "      <th>2</th>\n",
       "      <td>579</td>\n",
       "      <td>Por que não devemos usar funções do tipo mysql_*?</td>\n",
       "      <td>&lt;p&gt;Uma dúvida muito comum é por que devemos pa...</td>\n",
       "      <td>&lt;php&gt;&lt;mysql&gt;</td>\n",
       "      <td>226</td>\n",
       "      <td>9761</td>\n",
       "      <td>Uma dúvida muito comum é por que devemos parar...</td>\n",
       "    </tr>\n",
       "    <tr>\n",
       "      <th>3</th>\n",
       "      <td>2539</td>\n",
       "      <td>As mensagens de erro devem se desculpar?</td>\n",
       "      <td>&lt;p&gt;É comum encontrar uma mensagem de erro que ...</td>\n",
       "      <td>&lt;aplicação-web&gt;&lt;gui&gt;&lt;console&gt;&lt;ux&gt;</td>\n",
       "      <td>214</td>\n",
       "      <td>5075</td>\n",
       "      <td>É comum encontrar uma mensagem de erro que diz...</td>\n",
       "    </tr>\n",
       "    <tr>\n",
       "      <th>4</th>\n",
       "      <td>17501</td>\n",
       "      <td>Qual é a diferença de API, biblioteca e Framew...</td>\n",
       "      <td>&lt;p&gt;Me parecem termos muito próximos e eventual...</td>\n",
       "      <td>&lt;api&gt;&lt;framework&gt;&lt;terminologia&gt;&lt;biblioteca&gt;</td>\n",
       "      <td>193</td>\n",
       "      <td>54191</td>\n",
       "      <td>Me parecem termos muito próximos e eventualmen...</td>\n",
       "    </tr>\n",
       "  </tbody>\n",
       "</table>\n",
       "</div>"
      ],
      "text/plain": [
       "      Id                                             Título  \\\n",
       "0   2402         Como fazer hash de senhas de forma segura?   \n",
       "1   6441  Qual é a diferença entre INNER JOIN e OUTER JOIN?   \n",
       "2    579  Por que não devemos usar funções do tipo mysql_*?   \n",
       "3   2539           As mensagens de erro devem se desculpar?   \n",
       "4  17501  Qual é a diferença de API, biblioteca e Framew...   \n",
       "\n",
       "                                             Questão  \\\n",
       "0  <p>Se eu fizer o <em><a href=\"http://pt.wikipe...   \n",
       "1  <p>Qual é a diferença entre <code>INNER JOIN</...   \n",
       "2  <p>Uma dúvida muito comum é por que devemos pa...   \n",
       "3  <p>É comum encontrar uma mensagem de erro que ...   \n",
       "4  <p>Me parecem termos muito próximos e eventual...   \n",
       "\n",
       "                                         Tags  Pontuação  Visualizações  \\\n",
       "0     <hash><segurança><senhas><criptografia>        350          22367   \n",
       "1                                 <sql><join>        276         176953   \n",
       "2                                <php><mysql>        226           9761   \n",
       "3           <aplicação-web><gui><console><ux>        214           5075   \n",
       "4  <api><framework><terminologia><biblioteca>        193          54191   \n",
       "\n",
       "                                        sem_code_tag  \n",
       "0  Se eu fizer o hash de senhas antes de armazená...  \n",
       "1  Qual é a diferença entre CODE e CODE? Podem me...  \n",
       "2  Uma dúvida muito comum é por que devemos parar...  \n",
       "3  É comum encontrar uma mensagem de erro que diz...  \n",
       "4  Me parecem termos muito próximos e eventualmen...  "
      ]
     },
     "execution_count": 12,
     "metadata": {},
     "output_type": "execute_result"
    }
   ],
   "source": [
    "questoes_port_sem_code = substituir_codigo(dados_portugues.Questão,\n",
    "                                          regex_codigo)\n",
    "questoes_port_sem_code_tag = remover(questoes_port_sem_code, regex_html)\n",
    "\n",
    "dados_portugues['sem_code_tag'] = questoes_port_sem_code_tag\n",
    "\n",
    "dados_portugues.head()"
   ]
  },
  {
   "cell_type": "code",
   "execution_count": 13,
   "id": "9a3f24dd",
   "metadata": {
    "execution": {
     "iopub.execute_input": "2025-01-08T01:23:18.473410Z",
     "iopub.status.busy": "2025-01-08T01:23:18.473040Z",
     "iopub.status.idle": "2025-01-08T01:23:18.510535Z",
     "shell.execute_reply": "2025-01-08T01:23:18.509496Z"
    },
    "papermill": {
     "duration": 0.051806,
     "end_time": "2025-01-08T01:23:18.512154",
     "exception": false,
     "start_time": "2025-01-08T01:23:18.460348",
     "status": "completed"
    },
    "tags": []
   },
   "outputs": [
    {
     "data": {
      "text/html": [
       "<div>\n",
       "<style scoped>\n",
       "    .dataframe tbody tr th:only-of-type {\n",
       "        vertical-align: middle;\n",
       "    }\n",
       "\n",
       "    .dataframe tbody tr th {\n",
       "        vertical-align: top;\n",
       "    }\n",
       "\n",
       "    .dataframe thead th {\n",
       "        text-align: right;\n",
       "    }\n",
       "</style>\n",
       "<table border=\"1\" class=\"dataframe\">\n",
       "  <thead>\n",
       "    <tr style=\"text-align: right;\">\n",
       "      <th></th>\n",
       "      <th>Id</th>\n",
       "      <th>Título</th>\n",
       "      <th>Questão</th>\n",
       "      <th>Tags</th>\n",
       "      <th>Pontuação</th>\n",
       "      <th>Visualizações</th>\n",
       "      <th>sem_code_tag</th>\n",
       "    </tr>\n",
       "  </thead>\n",
       "  <tbody>\n",
       "    <tr>\n",
       "      <th>0</th>\n",
       "      <td>11227809</td>\n",
       "      <td>Why is it faster to process a sorted array tha...</td>\n",
       "      <td>&lt;p&gt;Here is a piece of C++ code that seems very...</td>\n",
       "      <td>&lt;java&gt;&lt;c++&gt;&lt;performance&gt;&lt;optimization&gt;&lt;branch-...</td>\n",
       "      <td>23057</td>\n",
       "      <td>1358574</td>\n",
       "      <td>Here is a piece of C++ code that seems very pe...</td>\n",
       "    </tr>\n",
       "    <tr>\n",
       "      <th>1</th>\n",
       "      <td>927358</td>\n",
       "      <td>How do I undo the most recent local commits in...</td>\n",
       "      <td>&lt;p&gt;I accidentally committed the wrong files to...</td>\n",
       "      <td>&lt;git&gt;&lt;version-control&gt;&lt;git-commit&gt;&lt;undo&gt;</td>\n",
       "      <td>19640</td>\n",
       "      <td>7906137</td>\n",
       "      <td>I accidentally committed the wrong files to Gi...</td>\n",
       "    </tr>\n",
       "    <tr>\n",
       "      <th>2</th>\n",
       "      <td>2003505</td>\n",
       "      <td>How do I delete a Git branch locally and remot...</td>\n",
       "      <td>&lt;p&gt;I want to delete a branch both locally and ...</td>\n",
       "      <td>&lt;git&gt;&lt;git-branch&gt;&lt;git-remote&gt;</td>\n",
       "      <td>15249</td>\n",
       "      <td>6940906</td>\n",
       "      <td>I want to delete a branch both locally and rem...</td>\n",
       "    </tr>\n",
       "    <tr>\n",
       "      <th>3</th>\n",
       "      <td>292357</td>\n",
       "      <td>What is the difference between 'git pull' and ...</td>\n",
       "      <td>&lt;blockquote&gt;\\n  &lt;p&gt;&lt;strong&gt;Moderator Note:&lt;/st...</td>\n",
       "      <td>&lt;git&gt;&lt;git-pull&gt;&lt;git-fetch&gt;</td>\n",
       "      <td>11008</td>\n",
       "      <td>2543052</td>\n",
       "      <td>\\n  Moderator Note: Given that this question h...</td>\n",
       "    </tr>\n",
       "    <tr>\n",
       "      <th>4</th>\n",
       "      <td>477816</td>\n",
       "      <td>What is the correct JSON content type?</td>\n",
       "      <td>&lt;p&gt;I've been messing around with &lt;a href=\"http...</td>\n",
       "      <td>&lt;json&gt;&lt;http-headers&gt;&lt;content-type&gt;</td>\n",
       "      <td>9701</td>\n",
       "      <td>2478940</td>\n",
       "      <td>I've been messing around with JSON for some ti...</td>\n",
       "    </tr>\n",
       "  </tbody>\n",
       "</table>\n",
       "</div>"
      ],
      "text/plain": [
       "         Id                                             Título  \\\n",
       "0  11227809  Why is it faster to process a sorted array tha...   \n",
       "1    927358  How do I undo the most recent local commits in...   \n",
       "2   2003505  How do I delete a Git branch locally and remot...   \n",
       "3    292357  What is the difference between 'git pull' and ...   \n",
       "4    477816             What is the correct JSON content type?   \n",
       "\n",
       "                                             Questão  \\\n",
       "0  <p>Here is a piece of C++ code that seems very...   \n",
       "1  <p>I accidentally committed the wrong files to...   \n",
       "2  <p>I want to delete a branch both locally and ...   \n",
       "3  <blockquote>\\n  <p><strong>Moderator Note:</st...   \n",
       "4  <p>I've been messing around with <a href=\"http...   \n",
       "\n",
       "                                                Tags  Pontuação  \\\n",
       "0  <java><c++><performance><optimization><branch-...      23057   \n",
       "1           <git><version-control><git-commit><undo>      19640   \n",
       "2                      <git><git-branch><git-remote>      15249   \n",
       "3                         <git><git-pull><git-fetch>      11008   \n",
       "4                 <json><http-headers><content-type>       9701   \n",
       "\n",
       "   Visualizações                                       sem_code_tag  \n",
       "0        1358574  Here is a piece of C++ code that seems very pe...  \n",
       "1        7906137  I accidentally committed the wrong files to Gi...  \n",
       "2        6940906  I want to delete a branch both locally and rem...  \n",
       "3        2543052  \\n  Moderator Note: Given that this question h...  \n",
       "4        2478940  I've been messing around with JSON for some ti...  "
      ]
     },
     "execution_count": 13,
     "metadata": {},
     "output_type": "execute_result"
    }
   ],
   "source": [
    "dados_ingles = pd.read_csv('/kaggle/input/stackoverflow/stackoverflow_ingles.csv')\n",
    "\n",
    "questoes_ing_sem_code = substituir_codigo(dados_ingles.Questão,\n",
    "                                          regex_codigo)\n",
    "questoes_ing_sem_code_tag = remover(questoes_ing_sem_code, regex_html)\n",
    "\n",
    "dados_ingles['sem_code_tag'] = questoes_ing_sem_code_tag\n",
    "\n",
    "dados_ingles.head()"
   ]
  },
  {
   "cell_type": "code",
   "execution_count": 14,
   "id": "6d1d43ee",
   "metadata": {
    "execution": {
     "iopub.execute_input": "2025-01-08T01:23:18.538017Z",
     "iopub.status.busy": "2025-01-08T01:23:18.537632Z",
     "iopub.status.idle": "2025-01-08T01:23:22.122376Z",
     "shell.execute_reply": "2025-01-08T01:23:22.121301Z"
    },
    "papermill": {
     "duration": 3.599501,
     "end_time": "2025-01-08T01:23:22.124044",
     "exception": false,
     "start_time": "2025-01-08T01:23:18.524543",
     "status": "completed"
    },
    "tags": []
   },
   "outputs": [
    {
     "name": "stdout",
     "output_type": "stream",
     "text": [
      "Encoding detectado: Windows-1252\n"
     ]
    }
   ],
   "source": [
    "import chardet\n",
    "\n",
    "# Detectar encoding\n",
    "with open('/kaggle/input/stackoverflow/stackoverflow_espanhol.csv', 'rb') as f:\n",
    "    result = chardet.detect(f.read())\n",
    "    print(f\"Encoding detectado: {result['encoding']}\")\n"
   ]
  },
  {
   "cell_type": "code",
   "execution_count": 15,
   "id": "1e23e404",
   "metadata": {
    "execution": {
     "iopub.execute_input": "2025-01-08T01:23:22.149925Z",
     "iopub.status.busy": "2025-01-08T01:23:22.149539Z",
     "iopub.status.idle": "2025-01-08T01:23:22.218771Z",
     "shell.execute_reply": "2025-01-08T01:23:22.217755Z"
    },
    "papermill": {
     "duration": 0.084042,
     "end_time": "2025-01-08T01:23:22.220542",
     "exception": false,
     "start_time": "2025-01-08T01:23:22.136500",
     "status": "completed"
    },
    "tags": []
   },
   "outputs": [
    {
     "data": {
      "text/html": [
       "<div>\n",
       "<style scoped>\n",
       "    .dataframe tbody tr th:only-of-type {\n",
       "        vertical-align: middle;\n",
       "    }\n",
       "\n",
       "    .dataframe tbody tr th {\n",
       "        vertical-align: top;\n",
       "    }\n",
       "\n",
       "    .dataframe thead th {\n",
       "        text-align: right;\n",
       "    }\n",
       "</style>\n",
       "<table border=\"1\" class=\"dataframe\">\n",
       "  <thead>\n",
       "    <tr style=\"text-align: right;\">\n",
       "      <th></th>\n",
       "      <th>Id</th>\n",
       "      <th>Título</th>\n",
       "      <th>Questão</th>\n",
       "      <th>Tags</th>\n",
       "      <th>Pontuação</th>\n",
       "      <th>Visualizações</th>\n",
       "      <th>sem_code_tag</th>\n",
       "    </tr>\n",
       "  </thead>\n",
       "  <tbody>\n",
       "    <tr>\n",
       "      <th>0</th>\n",
       "      <td>18232</td>\n",
       "      <td>¿Cómo evitar la inyección SQL en PHP?</td>\n",
       "      <td>&lt;p&gt;Las sentencias dinámicas son sentencias SQL...</td>\n",
       "      <td>&lt;php&gt;&lt;mysql&gt;&lt;sql&gt;&lt;seguridad&gt;&lt;inyección-sql&gt;</td>\n",
       "      <td>169</td>\n",
       "      <td>38614</td>\n",
       "      <td>Las sentencias dinámicas son sentencias SQL qu...</td>\n",
       "    </tr>\n",
       "    <tr>\n",
       "      <th>1</th>\n",
       "      <td>197</td>\n",
       "      <td>¿Por qué mis programas no pueden hacer cálculo...</td>\n",
       "      <td>&lt;p&gt;Unas veces los cálculos funcionan correctam...</td>\n",
       "      <td>&lt;matemáticas&gt;&lt;coma-flotante&gt;&lt;lenguaje-agnóstico&gt;</td>\n",
       "      <td>141</td>\n",
       "      <td>3860</td>\n",
       "      <td>Unas veces los cálculos funcionan correctament...</td>\n",
       "    </tr>\n",
       "    <tr>\n",
       "      <th>2</th>\n",
       "      <td>36</td>\n",
       "      <td>¿Cuál es la diferencia entre un inner y un out...</td>\n",
       "      <td>&lt;p&gt;¿Cuál es la diferencia entre un &lt;code&gt;inner...</td>\n",
       "      <td>&lt;mysql&gt;&lt;sql&gt;&lt;join&gt;</td>\n",
       "      <td>97</td>\n",
       "      <td>53627</td>\n",
       "      <td>¿Cuál es la diferencia entre un CODE y un CODE...</td>\n",
       "    </tr>\n",
       "    <tr>\n",
       "      <th>3</th>\n",
       "      <td>29177</td>\n",
       "      <td>¿Por qué es considerado una mala práctica util...</td>\n",
       "      <td>&lt;p&gt;La mayoría de nosotros decimos, (muchas vec...</td>\n",
       "      <td>&lt;variables&gt;&lt;variables-globales&gt;&lt;patrones-de-di...</td>\n",
       "      <td>89</td>\n",
       "      <td>9987</td>\n",
       "      <td>La mayoría de nosotros decimos, (muchas veces ...</td>\n",
       "    </tr>\n",
       "    <tr>\n",
       "      <th>4</th>\n",
       "      <td>142</td>\n",
       "      <td>Validar un email en JavaScript que acepte todo...</td>\n",
       "      <td>&lt;h3&gt;Pregunta&lt;/h3&gt;\\n\\n&lt;p&gt;¿Cómo validar un e-mai...</td>\n",
       "      <td>&lt;javascript&gt;&lt;validación&gt;&lt;email&gt;&lt;regex&gt;</td>\n",
       "      <td>87</td>\n",
       "      <td>73129</td>\n",
       "      <td>Pregunta\\n\\n¿Cómo validar un e-mail que acepte...</td>\n",
       "    </tr>\n",
       "  </tbody>\n",
       "</table>\n",
       "</div>"
      ],
      "text/plain": [
       "      Id                                             Título  \\\n",
       "0  18232              ¿Cómo evitar la inyección SQL en PHP?   \n",
       "1    197  ¿Por qué mis programas no pueden hacer cálculo...   \n",
       "2     36  ¿Cuál es la diferencia entre un inner y un out...   \n",
       "3  29177  ¿Por qué es considerado una mala práctica util...   \n",
       "4    142  Validar un email en JavaScript que acepte todo...   \n",
       "\n",
       "                                             Questão  \\\n",
       "0  <p>Las sentencias dinámicas son sentencias SQL...   \n",
       "1  <p>Unas veces los cálculos funcionan correctam...   \n",
       "2  <p>¿Cuál es la diferencia entre un <code>inner...   \n",
       "3  <p>La mayoría de nosotros decimos, (muchas vec...   \n",
       "4  <h3>Pregunta</h3>\\n\\n<p>¿Cómo validar un e-mai...   \n",
       "\n",
       "                                                Tags  Pontuação  \\\n",
       "0        <php><mysql><sql><seguridad><inyección-sql>        169   \n",
       "1   <matemáticas><coma-flotante><lenguaje-agnóstico>        141   \n",
       "2                                 <mysql><sql><join>         97   \n",
       "3  <variables><variables-globales><patrones-de-di...         89   \n",
       "4             <javascript><validación><email><regex>         87   \n",
       "\n",
       "   Visualizações                                       sem_code_tag  \n",
       "0          38614  Las sentencias dinámicas son sentencias SQL qu...  \n",
       "1           3860  Unas veces los cálculos funcionan correctament...  \n",
       "2          53627  ¿Cuál es la diferencia entre un CODE y un CODE...  \n",
       "3           9987  La mayoría de nosotros decimos, (muchas veces ...  \n",
       "4          73129  Pregunta\\n\\n¿Cómo validar un e-mail que acepte...  "
      ]
     },
     "execution_count": 15,
     "metadata": {},
     "output_type": "execute_result"
    }
   ],
   "source": [
    "dados_espanhol = pd.read_csv('/kaggle/input/stackoverflow/stackoverflow_espanhol.csv', sep=';', encoding='Windows-1252')\n",
    "\n",
    "questoes_esp_sem_code = substituir_codigo(dados_espanhol.Questão,\n",
    "                                          regex_codigo)\n",
    "questoes_esp_sem_code_tag = remover(questoes_esp_sem_code, regex_html)\n",
    "\n",
    "dados_espanhol['sem_code_tag'] = questoes_esp_sem_code_tag\n",
    "\n",
    "dados_espanhol.head()"
   ]
  },
  {
   "cell_type": "code",
   "execution_count": 16,
   "id": "034aa307",
   "metadata": {
    "execution": {
     "iopub.execute_input": "2025-01-08T01:23:22.247723Z",
     "iopub.status.busy": "2025-01-08T01:23:22.247333Z",
     "iopub.status.idle": "2025-01-08T01:23:22.252977Z",
     "shell.execute_reply": "2025-01-08T01:23:22.251898Z"
    },
    "papermill": {
     "duration": 0.020839,
     "end_time": "2025-01-08T01:23:22.254618",
     "exception": false,
     "start_time": "2025-01-08T01:23:22.233779",
     "status": "completed"
    },
    "tags": []
   },
   "outputs": [
    {
     "name": "stdout",
     "output_type": "stream",
     "text": [
      "Las sentencias dinámicas son sentencias SQL que se crean como cadenas de texto (strings) y en las que se insertan/concatenan valores obtenidos de alguna fuente (normalmente proveniente del usuario), lo que puede hacer que sean vulnerables a inyección SQL si no se sanean las entradas, como por ejemplo:\n",
      "\n",
      "CODE\n",
      "\n",
      "Eso es un ejemplo de una vulnerabilidad grave en la seguridad de una aplicación (web o no) porque si el usuario introdujese un valor como CODE nos encontraríamos con que la sentencia ejecutada sería:\n",
      "\n",
      "CODE\n",
      "\n",
      "Y se eliminaría la tabla Usuarios con todos los datos contenidos en ella. \n",
      "\n",
      "¿Cómo puedo evitar que la inyección SQL ocurra en PHP?\n",
      "\n"
     ]
    }
   ],
   "source": [
    "print(dados_espanhol.sem_code_tag[0])"
   ]
  },
  {
   "cell_type": "code",
   "execution_count": 17,
   "id": "6e741633",
   "metadata": {
    "execution": {
     "iopub.execute_input": "2025-01-08T01:23:22.282140Z",
     "iopub.status.busy": "2025-01-08T01:23:22.281741Z",
     "iopub.status.idle": "2025-01-08T01:23:22.287823Z",
     "shell.execute_reply": "2025-01-08T01:23:22.286714Z"
    },
    "papermill": {
     "duration": 0.021842,
     "end_time": "2025-01-08T01:23:22.289535",
     "exception": false,
     "start_time": "2025-01-08T01:23:22.267693",
     "status": "completed"
    },
    "tags": []
   },
   "outputs": [],
   "source": [
    "regex_pontuacao = re.compile(r'[^\\w\\s]')\n",
    "regex_digitos = re.compile(r'\\d+')\n",
    "regex_espaco = re.compile(r' +')\n",
    "regex_quebra_linha = re.compile(r'(\\n)')\n",
    "\n",
    "def minusculo(textos):\n",
    "    if type(textos) == str:\n",
    "        return textos.lower()\n",
    "    else:\n",
    "        return [texto.lower() for texto in textos]\n",
    "\n",
    "def substituir_espaco(textos, regex):\n",
    "    if type(textos) == str:\n",
    "        return regex.sub(' ', textos)\n",
    "    else:\n",
    "        return [regex.sub(' ', texto) for texto in textos]"
   ]
  },
  {
   "cell_type": "code",
   "execution_count": 18,
   "id": "29d3f2ed",
   "metadata": {
    "execution": {
     "iopub.execute_input": "2025-01-08T01:23:22.316428Z",
     "iopub.status.busy": "2025-01-08T01:23:22.316059Z",
     "iopub.status.idle": "2025-01-08T01:23:22.354020Z",
     "shell.execute_reply": "2025-01-08T01:23:22.352953Z"
    },
    "papermill": {
     "duration": 0.05344,
     "end_time": "2025-01-08T01:23:22.355887",
     "exception": false,
     "start_time": "2025-01-08T01:23:22.302447",
     "status": "completed"
    },
    "tags": []
   },
   "outputs": [],
   "source": [
    "questoes_corrigidas_port = remover(dados_portugues.sem_code_tag,\n",
    "                             regex_pontuacao)\n",
    "\n",
    "questoes_corrigidas_port = minusculo(questoes_corrigidas_port)\n",
    "\n",
    "questoes_corrigidas_port = remover(questoes_corrigidas_port,\n",
    "                             regex_digitos)\n",
    "\n",
    "questoes_corrigidas_port = substituir_espaco(questoes_corrigidas_port,\n",
    "                             regex_quebra_linha)\n",
    "\n",
    "questoes_corrigidas_port = substituir_espaco(questoes_corrigidas_port,\n",
    "                             regex_espaco)\n",
    "\n",
    "dados_portugues['questoes_tratadas'] = questoes_corrigidas_port"
   ]
  },
  {
   "cell_type": "code",
   "execution_count": 19,
   "id": "2fb6c756",
   "metadata": {
    "execution": {
     "iopub.execute_input": "2025-01-08T01:23:22.382847Z",
     "iopub.status.busy": "2025-01-08T01:23:22.382503Z",
     "iopub.status.idle": "2025-01-08T01:23:22.394868Z",
     "shell.execute_reply": "2025-01-08T01:23:22.393884Z"
    },
    "papermill": {
     "duration": 0.027537,
     "end_time": "2025-01-08T01:23:22.396386",
     "exception": false,
     "start_time": "2025-01-08T01:23:22.368849",
     "status": "completed"
    },
    "tags": []
   },
   "outputs": [
    {
     "data": {
      "text/html": [
       "<div>\n",
       "<style scoped>\n",
       "    .dataframe tbody tr th:only-of-type {\n",
       "        vertical-align: middle;\n",
       "    }\n",
       "\n",
       "    .dataframe tbody tr th {\n",
       "        vertical-align: top;\n",
       "    }\n",
       "\n",
       "    .dataframe thead th {\n",
       "        text-align: right;\n",
       "    }\n",
       "</style>\n",
       "<table border=\"1\" class=\"dataframe\">\n",
       "  <thead>\n",
       "    <tr style=\"text-align: right;\">\n",
       "      <th></th>\n",
       "      <th>Id</th>\n",
       "      <th>Título</th>\n",
       "      <th>Questão</th>\n",
       "      <th>Tags</th>\n",
       "      <th>Pontuação</th>\n",
       "      <th>Visualizações</th>\n",
       "      <th>sem_code_tag</th>\n",
       "      <th>questoes_tratadas</th>\n",
       "    </tr>\n",
       "  </thead>\n",
       "  <tbody>\n",
       "    <tr>\n",
       "      <th>0</th>\n",
       "      <td>2402</td>\n",
       "      <td>Como fazer hash de senhas de forma segura?</td>\n",
       "      <td>&lt;p&gt;Se eu fizer o &lt;em&gt;&lt;a href=\"http://pt.wikipe...</td>\n",
       "      <td>&lt;hash&gt;&lt;segurança&gt;&lt;senhas&gt;&lt;criptografia&gt;</td>\n",
       "      <td>350</td>\n",
       "      <td>22367</td>\n",
       "      <td>Se eu fizer o hash de senhas antes de armazená...</td>\n",
       "      <td>se eu fizer o hash de senhas antes de armazená...</td>\n",
       "    </tr>\n",
       "    <tr>\n",
       "      <th>1</th>\n",
       "      <td>6441</td>\n",
       "      <td>Qual é a diferença entre INNER JOIN e OUTER JOIN?</td>\n",
       "      <td>&lt;p&gt;Qual é a diferença entre &lt;code&gt;INNER JOIN&lt;/...</td>\n",
       "      <td>&lt;sql&gt;&lt;join&gt;</td>\n",
       "      <td>276</td>\n",
       "      <td>176953</td>\n",
       "      <td>Qual é a diferença entre CODE e CODE? Podem me...</td>\n",
       "      <td>qual é a diferença entre code e code podem me ...</td>\n",
       "    </tr>\n",
       "    <tr>\n",
       "      <th>2</th>\n",
       "      <td>579</td>\n",
       "      <td>Por que não devemos usar funções do tipo mysql_*?</td>\n",
       "      <td>&lt;p&gt;Uma dúvida muito comum é por que devemos pa...</td>\n",
       "      <td>&lt;php&gt;&lt;mysql&gt;</td>\n",
       "      <td>226</td>\n",
       "      <td>9761</td>\n",
       "      <td>Uma dúvida muito comum é por que devemos parar...</td>\n",
       "      <td>uma dúvida muito comum é por que devemos parar...</td>\n",
       "    </tr>\n",
       "    <tr>\n",
       "      <th>3</th>\n",
       "      <td>2539</td>\n",
       "      <td>As mensagens de erro devem se desculpar?</td>\n",
       "      <td>&lt;p&gt;É comum encontrar uma mensagem de erro que ...</td>\n",
       "      <td>&lt;aplicação-web&gt;&lt;gui&gt;&lt;console&gt;&lt;ux&gt;</td>\n",
       "      <td>214</td>\n",
       "      <td>5075</td>\n",
       "      <td>É comum encontrar uma mensagem de erro que diz...</td>\n",
       "      <td>é comum encontrar uma mensagem de erro que diz...</td>\n",
       "    </tr>\n",
       "    <tr>\n",
       "      <th>4</th>\n",
       "      <td>17501</td>\n",
       "      <td>Qual é a diferença de API, biblioteca e Framew...</td>\n",
       "      <td>&lt;p&gt;Me parecem termos muito próximos e eventual...</td>\n",
       "      <td>&lt;api&gt;&lt;framework&gt;&lt;terminologia&gt;&lt;biblioteca&gt;</td>\n",
       "      <td>193</td>\n",
       "      <td>54191</td>\n",
       "      <td>Me parecem termos muito próximos e eventualmen...</td>\n",
       "      <td>me parecem termos muito próximos e eventualmen...</td>\n",
       "    </tr>\n",
       "    <tr>\n",
       "      <th>5</th>\n",
       "      <td>3864</td>\n",
       "      <td>Como prevenir injeção de código SQL no meu cód...</td>\n",
       "      <td>&lt;p&gt;Desenvolvi uma página em PHP para uso inter...</td>\n",
       "      <td>&lt;php&gt;&lt;mysql&gt;&lt;sql&gt;&lt;sql-injection&gt;</td>\n",
       "      <td>180</td>\n",
       "      <td>10243</td>\n",
       "      <td>Desenvolvi uma página em PHP para uso interno ...</td>\n",
       "      <td>desenvolvi uma página em php para uso interno ...</td>\n",
       "    </tr>\n",
       "    <tr>\n",
       "      <th>6</th>\n",
       "      <td>3797</td>\n",
       "      <td>O que são e onde estão o \"stack\" e \"heap\"?</td>\n",
       "      <td>&lt;p&gt;O que são esses tais de &lt;em&gt;stack&lt;/em&gt; e &lt;e...</td>\n",
       "      <td>&lt;memória&gt;&lt;gerenciamento-de-memória&gt;&lt;stack&gt;&lt;heap&gt;</td>\n",
       "      <td>179</td>\n",
       "      <td>24733</td>\n",
       "      <td>O que são esses tais de stack e heap que tanto...</td>\n",
       "      <td>o que são esses tais de stack e heap que tanto...</td>\n",
       "    </tr>\n",
       "    <tr>\n",
       "      <th>7</th>\n",
       "      <td>45783</td>\n",
       "      <td>O que é REST e RESTful?</td>\n",
       "      <td>&lt;p&gt;Sempre ouço falar de &lt;code&gt;REST&lt;/code&gt; e &lt;c...</td>\n",
       "      <td>&lt;api&gt;&lt;rest&gt;&lt;http&gt;&lt;arquitetura-de-software&gt;&lt;res...</td>\n",
       "      <td>164</td>\n",
       "      <td>118348</td>\n",
       "      <td>Sempre ouço falar de CODE e CODE, mas não sei ...</td>\n",
       "      <td>sempre ouço falar de code e code mas não sei d...</td>\n",
       "    </tr>\n",
       "    <tr>\n",
       "      <th>8</th>\n",
       "      <td>9026</td>\n",
       "      <td>Como é gerada a randomização pelo computador?</td>\n",
       "      <td>&lt;h2&gt;Dúvidas&lt;/h2&gt;\\n\\n&lt;ol&gt;\\n&lt;li&gt;Como é feita a r...</td>\n",
       "      <td>&lt;javascript&gt;&lt;matemática&gt;&lt;números-aleatórios&gt;&lt;r...</td>\n",
       "      <td>160</td>\n",
       "      <td>4057</td>\n",
       "      <td>Dúvidas\\n\\n\\nComo é feita a randomização pelo ...</td>\n",
       "      <td>dúvidas como é feita a randomização pelo compu...</td>\n",
       "    </tr>\n",
       "    <tr>\n",
       "      <th>9</th>\n",
       "      <td>400</td>\n",
       "      <td>Como buscar um endereço por CEP nos Correios?</td>\n",
       "      <td>&lt;p&gt;Como busco nos Correios os detalhes de um e...</td>\n",
       "      <td>&lt;cep&gt;&lt;correios&gt;&lt;código-postal&gt;&lt;brasil&gt;&lt;e-dne&gt;</td>\n",
       "      <td>153</td>\n",
       "      <td>68055</td>\n",
       "      <td>Como busco nos Correios os detalhes de um ende...</td>\n",
       "      <td>como busco nos correios os detalhes de um ende...</td>\n",
       "    </tr>\n",
       "  </tbody>\n",
       "</table>\n",
       "</div>"
      ],
      "text/plain": [
       "      Id                                             Título  \\\n",
       "0   2402         Como fazer hash de senhas de forma segura?   \n",
       "1   6441  Qual é a diferença entre INNER JOIN e OUTER JOIN?   \n",
       "2    579  Por que não devemos usar funções do tipo mysql_*?   \n",
       "3   2539           As mensagens de erro devem se desculpar?   \n",
       "4  17501  Qual é a diferença de API, biblioteca e Framew...   \n",
       "5   3864  Como prevenir injeção de código SQL no meu cód...   \n",
       "6   3797         O que são e onde estão o \"stack\" e \"heap\"?   \n",
       "7  45783                            O que é REST e RESTful?   \n",
       "8   9026      Como é gerada a randomização pelo computador?   \n",
       "9    400      Como buscar um endereço por CEP nos Correios?   \n",
       "\n",
       "                                             Questão  \\\n",
       "0  <p>Se eu fizer o <em><a href=\"http://pt.wikipe...   \n",
       "1  <p>Qual é a diferença entre <code>INNER JOIN</...   \n",
       "2  <p>Uma dúvida muito comum é por que devemos pa...   \n",
       "3  <p>É comum encontrar uma mensagem de erro que ...   \n",
       "4  <p>Me parecem termos muito próximos e eventual...   \n",
       "5  <p>Desenvolvi uma página em PHP para uso inter...   \n",
       "6  <p>O que são esses tais de <em>stack</em> e <e...   \n",
       "7  <p>Sempre ouço falar de <code>REST</code> e <c...   \n",
       "8  <h2>Dúvidas</h2>\\n\\n<ol>\\n<li>Como é feita a r...   \n",
       "9  <p>Como busco nos Correios os detalhes de um e...   \n",
       "\n",
       "                                                Tags  Pontuação  \\\n",
       "0            <hash><segurança><senhas><criptografia>        350   \n",
       "1                                        <sql><join>        276   \n",
       "2                                       <php><mysql>        226   \n",
       "3                  <aplicação-web><gui><console><ux>        214   \n",
       "4         <api><framework><terminologia><biblioteca>        193   \n",
       "5                   <php><mysql><sql><sql-injection>        180   \n",
       "6   <memória><gerenciamento-de-memória><stack><heap>        179   \n",
       "7  <api><rest><http><arquitetura-de-software><res...        164   \n",
       "8  <javascript><matemática><números-aleatórios><r...        160   \n",
       "9      <cep><correios><código-postal><brasil><e-dne>        153   \n",
       "\n",
       "   Visualizações                                       sem_code_tag  \\\n",
       "0          22367  Se eu fizer o hash de senhas antes de armazená...   \n",
       "1         176953  Qual é a diferença entre CODE e CODE? Podem me...   \n",
       "2           9761  Uma dúvida muito comum é por que devemos parar...   \n",
       "3           5075  É comum encontrar uma mensagem de erro que diz...   \n",
       "4          54191  Me parecem termos muito próximos e eventualmen...   \n",
       "5          10243  Desenvolvi uma página em PHP para uso interno ...   \n",
       "6          24733  O que são esses tais de stack e heap que tanto...   \n",
       "7         118348  Sempre ouço falar de CODE e CODE, mas não sei ...   \n",
       "8           4057  Dúvidas\\n\\n\\nComo é feita a randomização pelo ...   \n",
       "9          68055  Como busco nos Correios os detalhes de um ende...   \n",
       "\n",
       "                                   questoes_tratadas  \n",
       "0  se eu fizer o hash de senhas antes de armazená...  \n",
       "1  qual é a diferença entre code e code podem me ...  \n",
       "2  uma dúvida muito comum é por que devemos parar...  \n",
       "3  é comum encontrar uma mensagem de erro que diz...  \n",
       "4  me parecem termos muito próximos e eventualmen...  \n",
       "5  desenvolvi uma página em php para uso interno ...  \n",
       "6  o que são esses tais de stack e heap que tanto...  \n",
       "7  sempre ouço falar de code e code mas não sei d...  \n",
       "8  dúvidas como é feita a randomização pelo compu...  \n",
       "9  como busco nos correios os detalhes de um ende...  "
      ]
     },
     "execution_count": 19,
     "metadata": {},
     "output_type": "execute_result"
    }
   ],
   "source": [
    "dados_portugues.head(10)"
   ]
  },
  {
   "cell_type": "code",
   "execution_count": 20,
   "id": "1d3436eb",
   "metadata": {
    "execution": {
     "iopub.execute_input": "2025-01-08T01:23:22.424543Z",
     "iopub.status.busy": "2025-01-08T01:23:22.424177Z",
     "iopub.status.idle": "2025-01-08T01:23:22.459770Z",
     "shell.execute_reply": "2025-01-08T01:23:22.458613Z"
    },
    "papermill": {
     "duration": 0.05187,
     "end_time": "2025-01-08T01:23:22.461903",
     "exception": false,
     "start_time": "2025-01-08T01:23:22.410033",
     "status": "completed"
    },
    "tags": []
   },
   "outputs": [
    {
     "data": {
      "text/html": [
       "<div>\n",
       "<style scoped>\n",
       "    .dataframe tbody tr th:only-of-type {\n",
       "        vertical-align: middle;\n",
       "    }\n",
       "\n",
       "    .dataframe tbody tr th {\n",
       "        vertical-align: top;\n",
       "    }\n",
       "\n",
       "    .dataframe thead th {\n",
       "        text-align: right;\n",
       "    }\n",
       "</style>\n",
       "<table border=\"1\" class=\"dataframe\">\n",
       "  <thead>\n",
       "    <tr style=\"text-align: right;\">\n",
       "      <th></th>\n",
       "      <th>Id</th>\n",
       "      <th>Título</th>\n",
       "      <th>Questão</th>\n",
       "      <th>Tags</th>\n",
       "      <th>Pontuação</th>\n",
       "      <th>Visualizações</th>\n",
       "      <th>sem_code_tag</th>\n",
       "      <th>questoes_tratadas</th>\n",
       "    </tr>\n",
       "  </thead>\n",
       "  <tbody>\n",
       "    <tr>\n",
       "      <th>0</th>\n",
       "      <td>11227809</td>\n",
       "      <td>Why is it faster to process a sorted array tha...</td>\n",
       "      <td>&lt;p&gt;Here is a piece of C++ code that seems very...</td>\n",
       "      <td>&lt;java&gt;&lt;c++&gt;&lt;performance&gt;&lt;optimization&gt;&lt;branch-...</td>\n",
       "      <td>23057</td>\n",
       "      <td>1358574</td>\n",
       "      <td>Here is a piece of C++ code that seems very pe...</td>\n",
       "      <td>here is a piece of c code that seems very pecu...</td>\n",
       "    </tr>\n",
       "    <tr>\n",
       "      <th>1</th>\n",
       "      <td>927358</td>\n",
       "      <td>How do I undo the most recent local commits in...</td>\n",
       "      <td>&lt;p&gt;I accidentally committed the wrong files to...</td>\n",
       "      <td>&lt;git&gt;&lt;version-control&gt;&lt;git-commit&gt;&lt;undo&gt;</td>\n",
       "      <td>19640</td>\n",
       "      <td>7906137</td>\n",
       "      <td>I accidentally committed the wrong files to Gi...</td>\n",
       "      <td>i accidentally committed the wrong files to gi...</td>\n",
       "    </tr>\n",
       "    <tr>\n",
       "      <th>2</th>\n",
       "      <td>2003505</td>\n",
       "      <td>How do I delete a Git branch locally and remot...</td>\n",
       "      <td>&lt;p&gt;I want to delete a branch both locally and ...</td>\n",
       "      <td>&lt;git&gt;&lt;git-branch&gt;&lt;git-remote&gt;</td>\n",
       "      <td>15249</td>\n",
       "      <td>6940906</td>\n",
       "      <td>I want to delete a branch both locally and rem...</td>\n",
       "      <td>i want to delete a branch both locally and rem...</td>\n",
       "    </tr>\n",
       "    <tr>\n",
       "      <th>3</th>\n",
       "      <td>292357</td>\n",
       "      <td>What is the difference between 'git pull' and ...</td>\n",
       "      <td>&lt;blockquote&gt;\\n  &lt;p&gt;&lt;strong&gt;Moderator Note:&lt;/st...</td>\n",
       "      <td>&lt;git&gt;&lt;git-pull&gt;&lt;git-fetch&gt;</td>\n",
       "      <td>11008</td>\n",
       "      <td>2543052</td>\n",
       "      <td>\\n  Moderator Note: Given that this question h...</td>\n",
       "      <td>moderator note given that this question has a...</td>\n",
       "    </tr>\n",
       "    <tr>\n",
       "      <th>4</th>\n",
       "      <td>477816</td>\n",
       "      <td>What is the correct JSON content type?</td>\n",
       "      <td>&lt;p&gt;I've been messing around with &lt;a href=\"http...</td>\n",
       "      <td>&lt;json&gt;&lt;http-headers&gt;&lt;content-type&gt;</td>\n",
       "      <td>9701</td>\n",
       "      <td>2478940</td>\n",
       "      <td>I've been messing around with JSON for some ti...</td>\n",
       "      <td>ive been messing around with json for some tim...</td>\n",
       "    </tr>\n",
       "    <tr>\n",
       "      <th>5</th>\n",
       "      <td>231767</td>\n",
       "      <td>What does the \"yield\" keyword do?</td>\n",
       "      <td>&lt;p&gt;What is the use of the &lt;code&gt;yield&lt;/code&gt; k...</td>\n",
       "      <td>&lt;python&gt;&lt;iterator&gt;&lt;generator&gt;&lt;yield&gt;&lt;coroutine&gt;</td>\n",
       "      <td>9246</td>\n",
       "      <td>2012205</td>\n",
       "      <td>What is the use of the CODE keyword in Python?...</td>\n",
       "      <td>what is the use of the code keyword in python ...</td>\n",
       "    </tr>\n",
       "    <tr>\n",
       "      <th>6</th>\n",
       "      <td>1642028</td>\n",
       "      <td>What is the \"--&gt;\" operator in C++?</td>\n",
       "      <td>&lt;p&gt;After reading &lt;a href=\"http://groups.google...</td>\n",
       "      <td>&lt;c++&gt;&lt;operators&gt;&lt;code-formatting&gt;&lt;standards-co...</td>\n",
       "      <td>8305</td>\n",
       "      <td>712966</td>\n",
       "      <td>After reading Hidden Features and Dark Corners...</td>\n",
       "      <td>after reading hidden features and dark corners...</td>\n",
       "    </tr>\n",
       "    <tr>\n",
       "      <th>7</th>\n",
       "      <td>348170</td>\n",
       "      <td>How to undo 'git add' before commit?</td>\n",
       "      <td>&lt;p&gt;I mistakenly added files to git using the c...</td>\n",
       "      <td>&lt;git&gt;&lt;version-control&gt;&lt;git-commit&gt;&lt;git-stage&gt;</td>\n",
       "      <td>8144</td>\n",
       "      <td>2615387</td>\n",
       "      <td>I mistakenly added files to git using the comm...</td>\n",
       "      <td>i mistakenly added files to git using the comm...</td>\n",
       "    </tr>\n",
       "    <tr>\n",
       "      <th>8</th>\n",
       "      <td>503093</td>\n",
       "      <td>How do I redirect to another webpage?</td>\n",
       "      <td>&lt;p&gt;How can I redirect the user from one page t...</td>\n",
       "      <td>&lt;javascript&gt;&lt;jquery&gt;&lt;redirect&gt;</td>\n",
       "      <td>7729</td>\n",
       "      <td>5678726</td>\n",
       "      <td>How can I redirect the user from one page to a...</td>\n",
       "      <td>how can i redirect the user from one page to a...</td>\n",
       "    </tr>\n",
       "    <tr>\n",
       "      <th>9</th>\n",
       "      <td>179123</td>\n",
       "      <td>How to modify existing, unpushed commit messages?</td>\n",
       "      <td>&lt;p&gt;I wrote the wrong thing in a commit message...</td>\n",
       "      <td>&lt;git&gt;&lt;git-commit&gt;&lt;git-rewrite-history&gt;&lt;amend&gt;</td>\n",
       "      <td>7673</td>\n",
       "      <td>2382840</td>\n",
       "      <td>I wrote the wrong thing in a commit message.\\n...</td>\n",
       "      <td>i wrote the wrong thing in a commit message ho...</td>\n",
       "    </tr>\n",
       "  </tbody>\n",
       "</table>\n",
       "</div>"
      ],
      "text/plain": [
       "         Id                                             Título  \\\n",
       "0  11227809  Why is it faster to process a sorted array tha...   \n",
       "1    927358  How do I undo the most recent local commits in...   \n",
       "2   2003505  How do I delete a Git branch locally and remot...   \n",
       "3    292357  What is the difference between 'git pull' and ...   \n",
       "4    477816             What is the correct JSON content type?   \n",
       "5    231767                  What does the \"yield\" keyword do?   \n",
       "6   1642028                 What is the \"-->\" operator in C++?   \n",
       "7    348170               How to undo 'git add' before commit?   \n",
       "8    503093              How do I redirect to another webpage?   \n",
       "9    179123  How to modify existing, unpushed commit messages?   \n",
       "\n",
       "                                             Questão  \\\n",
       "0  <p>Here is a piece of C++ code that seems very...   \n",
       "1  <p>I accidentally committed the wrong files to...   \n",
       "2  <p>I want to delete a branch both locally and ...   \n",
       "3  <blockquote>\\n  <p><strong>Moderator Note:</st...   \n",
       "4  <p>I've been messing around with <a href=\"http...   \n",
       "5  <p>What is the use of the <code>yield</code> k...   \n",
       "6  <p>After reading <a href=\"http://groups.google...   \n",
       "7  <p>I mistakenly added files to git using the c...   \n",
       "8  <p>How can I redirect the user from one page t...   \n",
       "9  <p>I wrote the wrong thing in a commit message...   \n",
       "\n",
       "                                                Tags  Pontuação  \\\n",
       "0  <java><c++><performance><optimization><branch-...      23057   \n",
       "1           <git><version-control><git-commit><undo>      19640   \n",
       "2                      <git><git-branch><git-remote>      15249   \n",
       "3                         <git><git-pull><git-fetch>      11008   \n",
       "4                 <json><http-headers><content-type>       9701   \n",
       "5    <python><iterator><generator><yield><coroutine>       9246   \n",
       "6  <c++><operators><code-formatting><standards-co...       8305   \n",
       "7      <git><version-control><git-commit><git-stage>       8144   \n",
       "8                     <javascript><jquery><redirect>       7729   \n",
       "9      <git><git-commit><git-rewrite-history><amend>       7673   \n",
       "\n",
       "   Visualizações                                       sem_code_tag  \\\n",
       "0        1358574  Here is a piece of C++ code that seems very pe...   \n",
       "1        7906137  I accidentally committed the wrong files to Gi...   \n",
       "2        6940906  I want to delete a branch both locally and rem...   \n",
       "3        2543052  \\n  Moderator Note: Given that this question h...   \n",
       "4        2478940  I've been messing around with JSON for some ti...   \n",
       "5        2012205  What is the use of the CODE keyword in Python?...   \n",
       "6         712966  After reading Hidden Features and Dark Corners...   \n",
       "7        2615387  I mistakenly added files to git using the comm...   \n",
       "8        5678726  How can I redirect the user from one page to a...   \n",
       "9        2382840  I wrote the wrong thing in a commit message.\\n...   \n",
       "\n",
       "                                   questoes_tratadas  \n",
       "0  here is a piece of c code that seems very pecu...  \n",
       "1  i accidentally committed the wrong files to gi...  \n",
       "2  i want to delete a branch both locally and rem...  \n",
       "3   moderator note given that this question has a...  \n",
       "4  ive been messing around with json for some tim...  \n",
       "5  what is the use of the code keyword in python ...  \n",
       "6  after reading hidden features and dark corners...  \n",
       "7  i mistakenly added files to git using the comm...  \n",
       "8  how can i redirect the user from one page to a...  \n",
       "9  i wrote the wrong thing in a commit message ho...  "
      ]
     },
     "execution_count": 20,
     "metadata": {},
     "output_type": "execute_result"
    }
   ],
   "source": [
    "questoes_corrigidas_ing = remover(dados_ingles.sem_code_tag,\n",
    "                             regex_pontuacao)\n",
    "\n",
    "questoes_corrigidas_ing = minusculo(questoes_corrigidas_ing)\n",
    "\n",
    "questoes_corrigidas_ing = remover(questoes_corrigidas_ing,\n",
    "                             regex_digitos)\n",
    "\n",
    "questoes_corrigidas_ing = substituir_espaco(questoes_corrigidas_ing,\n",
    "                             regex_quebra_linha)\n",
    "\n",
    "questoes_corrigidas_ing = substituir_espaco(questoes_corrigidas_ing,\n",
    "                             regex_espaco)\n",
    "\n",
    "dados_ingles['questoes_tratadas'] = questoes_corrigidas_ing\n",
    "\n",
    "dados_ingles.head(10)"
   ]
  },
  {
   "cell_type": "code",
   "execution_count": 21,
   "id": "0e3f1f3e",
   "metadata": {
    "execution": {
     "iopub.execute_input": "2025-01-08T01:23:22.490046Z",
     "iopub.status.busy": "2025-01-08T01:23:22.489643Z",
     "iopub.status.idle": "2025-01-08T01:23:22.542861Z",
     "shell.execute_reply": "2025-01-08T01:23:22.541833Z"
    },
    "papermill": {
     "duration": 0.069227,
     "end_time": "2025-01-08T01:23:22.544688",
     "exception": false,
     "start_time": "2025-01-08T01:23:22.475461",
     "status": "completed"
    },
    "tags": []
   },
   "outputs": [
    {
     "data": {
      "text/html": [
       "<div>\n",
       "<style scoped>\n",
       "    .dataframe tbody tr th:only-of-type {\n",
       "        vertical-align: middle;\n",
       "    }\n",
       "\n",
       "    .dataframe tbody tr th {\n",
       "        vertical-align: top;\n",
       "    }\n",
       "\n",
       "    .dataframe thead th {\n",
       "        text-align: right;\n",
       "    }\n",
       "</style>\n",
       "<table border=\"1\" class=\"dataframe\">\n",
       "  <thead>\n",
       "    <tr style=\"text-align: right;\">\n",
       "      <th></th>\n",
       "      <th>Id</th>\n",
       "      <th>Título</th>\n",
       "      <th>Questão</th>\n",
       "      <th>Tags</th>\n",
       "      <th>Pontuação</th>\n",
       "      <th>Visualizações</th>\n",
       "      <th>sem_code_tag</th>\n",
       "      <th>questoes_tratadas</th>\n",
       "    </tr>\n",
       "  </thead>\n",
       "  <tbody>\n",
       "    <tr>\n",
       "      <th>0</th>\n",
       "      <td>18232</td>\n",
       "      <td>¿Cómo evitar la inyección SQL en PHP?</td>\n",
       "      <td>&lt;p&gt;Las sentencias dinámicas son sentencias SQL...</td>\n",
       "      <td>&lt;php&gt;&lt;mysql&gt;&lt;sql&gt;&lt;seguridad&gt;&lt;inyección-sql&gt;</td>\n",
       "      <td>169</td>\n",
       "      <td>38614</td>\n",
       "      <td>Las sentencias dinámicas son sentencias SQL qu...</td>\n",
       "      <td>las sentencias dinámicas son sentencias sql qu...</td>\n",
       "    </tr>\n",
       "    <tr>\n",
       "      <th>1</th>\n",
       "      <td>197</td>\n",
       "      <td>¿Por qué mis programas no pueden hacer cálculo...</td>\n",
       "      <td>&lt;p&gt;Unas veces los cálculos funcionan correctam...</td>\n",
       "      <td>&lt;matemáticas&gt;&lt;coma-flotante&gt;&lt;lenguaje-agnóstico&gt;</td>\n",
       "      <td>141</td>\n",
       "      <td>3860</td>\n",
       "      <td>Unas veces los cálculos funcionan correctament...</td>\n",
       "      <td>unas veces los cálculos funcionan correctament...</td>\n",
       "    </tr>\n",
       "    <tr>\n",
       "      <th>2</th>\n",
       "      <td>36</td>\n",
       "      <td>¿Cuál es la diferencia entre un inner y un out...</td>\n",
       "      <td>&lt;p&gt;¿Cuál es la diferencia entre un &lt;code&gt;inner...</td>\n",
       "      <td>&lt;mysql&gt;&lt;sql&gt;&lt;join&gt;</td>\n",
       "      <td>97</td>\n",
       "      <td>53627</td>\n",
       "      <td>¿Cuál es la diferencia entre un CODE y un CODE...</td>\n",
       "      <td>cuál es la diferencia entre un code y un code ...</td>\n",
       "    </tr>\n",
       "    <tr>\n",
       "      <th>3</th>\n",
       "      <td>29177</td>\n",
       "      <td>¿Por qué es considerado una mala práctica util...</td>\n",
       "      <td>&lt;p&gt;La mayoría de nosotros decimos, (muchas vec...</td>\n",
       "      <td>&lt;variables&gt;&lt;variables-globales&gt;&lt;patrones-de-di...</td>\n",
       "      <td>89</td>\n",
       "      <td>9987</td>\n",
       "      <td>La mayoría de nosotros decimos, (muchas veces ...</td>\n",
       "      <td>la mayoría de nosotros decimos muchas veces si...</td>\n",
       "    </tr>\n",
       "    <tr>\n",
       "      <th>4</th>\n",
       "      <td>142</td>\n",
       "      <td>Validar un email en JavaScript que acepte todo...</td>\n",
       "      <td>&lt;h3&gt;Pregunta&lt;/h3&gt;\\n\\n&lt;p&gt;¿Cómo validar un e-mai...</td>\n",
       "      <td>&lt;javascript&gt;&lt;validación&gt;&lt;email&gt;&lt;regex&gt;</td>\n",
       "      <td>87</td>\n",
       "      <td>73129</td>\n",
       "      <td>Pregunta\\n\\n¿Cómo validar un e-mail que acepte...</td>\n",
       "      <td>pregunta cómo validar un email que acepte todo...</td>\n",
       "    </tr>\n",
       "    <tr>\n",
       "      <th>5</th>\n",
       "      <td>331</td>\n",
       "      <td>Diferencias entre == y === (comparaciones en J...</td>\n",
       "      <td>&lt;p&gt;Siempre he visto que en &lt;code&gt;JavaScript&lt;/c...</td>\n",
       "      <td>&lt;javascript&gt;&lt;comparaciones&gt;</td>\n",
       "      <td>83</td>\n",
       "      <td>50410</td>\n",
       "      <td>Siempre he visto que en CODE hay:\\n\\n\\nasignac...</td>\n",
       "      <td>siempre he visto que en code hay asignaciones ...</td>\n",
       "    </tr>\n",
       "    <tr>\n",
       "      <th>6</th>\n",
       "      <td>64265</td>\n",
       "      <td>¿Qué es una promesa en Javascript?</td>\n",
       "      <td>&lt;p&gt;Partiendo de:&lt;/p&gt;\\n\\n&lt;blockquote&gt;\\n  &lt;p&gt;No ...</td>\n",
       "      <td>&lt;javascript&gt;&lt;promesas&gt;</td>\n",
       "      <td>76</td>\n",
       "      <td>7983</td>\n",
       "      <td>Partiendo de:\\n\\n\\n  No prometas aquello que n...</td>\n",
       "      <td>partiendo de no prometas aquello que no puedes...</td>\n",
       "    </tr>\n",
       "    <tr>\n",
       "      <th>7</th>\n",
       "      <td>225</td>\n",
       "      <td>¿Cómo comparar correctamente Strings (y objeto...</td>\n",
       "      <td>&lt;p&gt;Estoy creando un mini juego en el que el us...</td>\n",
       "      <td>&lt;java&gt;&lt;string&gt;&lt;comparaciones&gt;</td>\n",
       "      <td>75</td>\n",
       "      <td>119705</td>\n",
       "      <td>Estoy creando un mini juego en el que el usuar...</td>\n",
       "      <td>estoy creando un mini juego en el que el usuar...</td>\n",
       "    </tr>\n",
       "    <tr>\n",
       "      <th>8</th>\n",
       "      <td>10518</td>\n",
       "      <td>¿Qué es la inyección SQL y cómo puedo evitarla?</td>\n",
       "      <td>&lt;p&gt;He encontrado bastantes preguntas en StackO...</td>\n",
       "      <td>&lt;mysql&gt;&lt;sql&gt;&lt;seguridad&gt;&lt;lenguaje-agnóstico&gt;&lt;in...</td>\n",
       "      <td>75</td>\n",
       "      <td>3424</td>\n",
       "      <td>He encontrado bastantes preguntas en StackOver...</td>\n",
       "      <td>he encontrado bastantes preguntas en stackover...</td>\n",
       "    </tr>\n",
       "    <tr>\n",
       "      <th>9</th>\n",
       "      <td>66292</td>\n",
       "      <td>¿Cómo funciona el condicional if (!+[]+!+[] ==...</td>\n",
       "      <td>&lt;p&gt;¿Cómo funciona este código? Quisiera una ex...</td>\n",
       "      <td>&lt;javascript&gt;</td>\n",
       "      <td>67</td>\n",
       "      <td>1742</td>\n",
       "      <td>¿Cómo funciona este código? Quisiera una expli...</td>\n",
       "      <td>cómo funciona este código quisiera una explica...</td>\n",
       "    </tr>\n",
       "  </tbody>\n",
       "</table>\n",
       "</div>"
      ],
      "text/plain": [
       "      Id                                             Título  \\\n",
       "0  18232              ¿Cómo evitar la inyección SQL en PHP?   \n",
       "1    197  ¿Por qué mis programas no pueden hacer cálculo...   \n",
       "2     36  ¿Cuál es la diferencia entre un inner y un out...   \n",
       "3  29177  ¿Por qué es considerado una mala práctica util...   \n",
       "4    142  Validar un email en JavaScript que acepte todo...   \n",
       "5    331  Diferencias entre == y === (comparaciones en J...   \n",
       "6  64265                 ¿Qué es una promesa en Javascript?   \n",
       "7    225  ¿Cómo comparar correctamente Strings (y objeto...   \n",
       "8  10518    ¿Qué es la inyección SQL y cómo puedo evitarla?   \n",
       "9  66292  ¿Cómo funciona el condicional if (!+[]+!+[] ==...   \n",
       "\n",
       "                                             Questão  \\\n",
       "0  <p>Las sentencias dinámicas son sentencias SQL...   \n",
       "1  <p>Unas veces los cálculos funcionan correctam...   \n",
       "2  <p>¿Cuál es la diferencia entre un <code>inner...   \n",
       "3  <p>La mayoría de nosotros decimos, (muchas vec...   \n",
       "4  <h3>Pregunta</h3>\\n\\n<p>¿Cómo validar un e-mai...   \n",
       "5  <p>Siempre he visto que en <code>JavaScript</c...   \n",
       "6  <p>Partiendo de:</p>\\n\\n<blockquote>\\n  <p>No ...   \n",
       "7  <p>Estoy creando un mini juego en el que el us...   \n",
       "8  <p>He encontrado bastantes preguntas en StackO...   \n",
       "9  <p>¿Cómo funciona este código? Quisiera una ex...   \n",
       "\n",
       "                                                Tags  Pontuação  \\\n",
       "0        <php><mysql><sql><seguridad><inyección-sql>        169   \n",
       "1   <matemáticas><coma-flotante><lenguaje-agnóstico>        141   \n",
       "2                                 <mysql><sql><join>         97   \n",
       "3  <variables><variables-globales><patrones-de-di...         89   \n",
       "4             <javascript><validación><email><regex>         87   \n",
       "5                        <javascript><comparaciones>         83   \n",
       "6                             <javascript><promesas>         76   \n",
       "7                      <java><string><comparaciones>         75   \n",
       "8  <mysql><sql><seguridad><lenguaje-agnóstico><in...         75   \n",
       "9                                       <javascript>         67   \n",
       "\n",
       "   Visualizações                                       sem_code_tag  \\\n",
       "0          38614  Las sentencias dinámicas son sentencias SQL qu...   \n",
       "1           3860  Unas veces los cálculos funcionan correctament...   \n",
       "2          53627  ¿Cuál es la diferencia entre un CODE y un CODE...   \n",
       "3           9987  La mayoría de nosotros decimos, (muchas veces ...   \n",
       "4          73129  Pregunta\\n\\n¿Cómo validar un e-mail que acepte...   \n",
       "5          50410  Siempre he visto que en CODE hay:\\n\\n\\nasignac...   \n",
       "6           7983  Partiendo de:\\n\\n\\n  No prometas aquello que n...   \n",
       "7         119705  Estoy creando un mini juego en el que el usuar...   \n",
       "8           3424  He encontrado bastantes preguntas en StackOver...   \n",
       "9           1742  ¿Cómo funciona este código? Quisiera una expli...   \n",
       "\n",
       "                                   questoes_tratadas  \n",
       "0  las sentencias dinámicas son sentencias sql qu...  \n",
       "1  unas veces los cálculos funcionan correctament...  \n",
       "2  cuál es la diferencia entre un code y un code ...  \n",
       "3  la mayoría de nosotros decimos muchas veces si...  \n",
       "4  pregunta cómo validar un email que acepte todo...  \n",
       "5  siempre he visto que en code hay asignaciones ...  \n",
       "6  partiendo de no prometas aquello que no puedes...  \n",
       "7  estoy creando un mini juego en el que el usuar...  \n",
       "8  he encontrado bastantes preguntas en stackover...  \n",
       "9  cómo funciona este código quisiera una explica...  "
      ]
     },
     "execution_count": 21,
     "metadata": {},
     "output_type": "execute_result"
    }
   ],
   "source": [
    "questoes_corrigidas_esp = remover(dados_espanhol.sem_code_tag,\n",
    "                             regex_pontuacao)\n",
    "\n",
    "questoes_corrigidas_esp = minusculo(questoes_corrigidas_esp)\n",
    "\n",
    "questoes_corrigidas_esp = remover(questoes_corrigidas_esp,\n",
    "                             regex_digitos)\n",
    "\n",
    "questoes_corrigidas_esp = substituir_espaco(questoes_corrigidas_esp,\n",
    "                             regex_quebra_linha)\n",
    "\n",
    "questoes_corrigidas_esp = substituir_espaco(questoes_corrigidas_esp,\n",
    "                             regex_espaco)\n",
    "\n",
    "dados_espanhol['questoes_tratadas'] = questoes_corrigidas_esp\n",
    "\n",
    "dados_espanhol.head(10)"
   ]
  },
  {
   "cell_type": "code",
   "execution_count": 22,
   "id": "54b3a8b6",
   "metadata": {
    "execution": {
     "iopub.execute_input": "2025-01-08T01:23:22.573703Z",
     "iopub.status.busy": "2025-01-08T01:23:22.573377Z",
     "iopub.status.idle": "2025-01-08T01:23:22.578980Z",
     "shell.execute_reply": "2025-01-08T01:23:22.577855Z"
    },
    "papermill": {
     "duration": 0.021991,
     "end_time": "2025-01-08T01:23:22.580668",
     "exception": false,
     "start_time": "2025-01-08T01:23:22.558677",
     "status": "completed"
    },
    "tags": []
   },
   "outputs": [],
   "source": [
    "dados_portugues['idioma'] = 'port'\n",
    "dados_espanhol['idioma'] = 'esp'\n",
    "dados_ingles['idioma'] = 'ing'"
   ]
  },
  {
   "cell_type": "code",
   "execution_count": 23,
   "id": "7920d22c",
   "metadata": {
    "execution": {
     "iopub.execute_input": "2025-01-08T01:23:22.611256Z",
     "iopub.status.busy": "2025-01-08T01:23:22.610880Z",
     "iopub.status.idle": "2025-01-08T01:23:24.527301Z",
     "shell.execute_reply": "2025-01-08T01:23:24.526165Z"
    },
    "papermill": {
     "duration": 1.934129,
     "end_time": "2025-01-08T01:23:24.529082",
     "exception": false,
     "start_time": "2025-01-08T01:23:22.594953",
     "status": "completed"
    },
    "tags": []
   },
   "outputs": [],
   "source": [
    "import nltk\n",
    "#nltk.download()"
   ]
  },
  {
   "cell_type": "code",
   "execution_count": 24,
   "id": "0ba12168",
   "metadata": {
    "execution": {
     "iopub.execute_input": "2025-01-08T01:23:24.557747Z",
     "iopub.status.busy": "2025-01-08T01:23:24.557210Z",
     "iopub.status.idle": "2025-01-08T01:23:31.661548Z",
     "shell.execute_reply": "2025-01-08T01:23:31.660020Z"
    },
    "papermill": {
     "duration": 7.120864,
     "end_time": "2025-01-08T01:23:31.663643",
     "exception": false,
     "start_time": "2025-01-08T01:23:24.542779",
     "status": "completed"
    },
    "tags": []
   },
   "outputs": [
    {
     "name": "stdout",
     "output_type": "stream",
     "text": [
      "Requirement already satisfied: nltk in /usr/local/lib/python3.10/dist-packages (3.2.4)\r\n",
      "Collecting nltk\r\n",
      "  Downloading nltk-3.9.1-py3-none-any.whl.metadata (2.9 kB)\r\n",
      "Requirement already satisfied: click in /usr/local/lib/python3.10/dist-packages (from nltk) (8.1.7)\r\n",
      "Requirement already satisfied: joblib in /usr/local/lib/python3.10/dist-packages (from nltk) (1.4.2)\r\n",
      "Requirement already satisfied: regex>=2021.8.3 in /usr/local/lib/python3.10/dist-packages (from nltk) (2024.9.11)\r\n",
      "Requirement already satisfied: tqdm in /usr/local/lib/python3.10/dist-packages (from nltk) (4.66.5)\r\n",
      "Downloading nltk-3.9.1-py3-none-any.whl (1.5 MB)\r\n",
      "\u001b[2K   \u001b[90m━━━━━━━━━━━━━━━━━━━━━━━━━━━━━━━━━━━━━━━━\u001b[0m \u001b[32m1.5/1.5 MB\u001b[0m \u001b[31m17.7 MB/s\u001b[0m eta \u001b[36m0:00:00\u001b[0m\r\n",
      "\u001b[?25hInstalling collected packages: nltk\r\n",
      "  Attempting uninstall: nltk\r\n",
      "    Found existing installation: nltk 3.2.4\r\n",
      "    Uninstalling nltk-3.2.4:\r\n",
      "      Successfully uninstalled nltk-3.2.4\r\n",
      "\u001b[31mERROR: pip's dependency resolver does not currently take into account all the packages that are installed. This behaviour is the source of the following dependency conflicts.\r\n",
      "preprocessing 0.1.13 requires nltk==3.2.4, but you have nltk 3.9.1 which is incompatible.\u001b[0m\u001b[31m\r\n",
      "\u001b[0mSuccessfully installed nltk-3.9.1\r\n",
      "Note: you may need to restart the kernel to use updated packages.\n"
     ]
    }
   ],
   "source": [
    "pip install --upgrade nltk"
   ]
  },
  {
   "cell_type": "code",
   "execution_count": 25,
   "id": "3a7feb37",
   "metadata": {
    "execution": {
     "iopub.execute_input": "2025-01-08T01:23:31.694993Z",
     "iopub.status.busy": "2025-01-08T01:23:31.694588Z",
     "iopub.status.idle": "2025-01-08T01:23:31.701086Z",
     "shell.execute_reply": "2025-01-08T01:23:31.700116Z"
    },
    "papermill": {
     "duration": 0.023842,
     "end_time": "2025-01-08T01:23:31.702589",
     "exception": false,
     "start_time": "2025-01-08T01:23:31.678747",
     "status": "completed"
    },
    "tags": []
   },
   "outputs": [
    {
     "data": {
      "text/plain": [
       "(500, 9)"
      ]
     },
     "execution_count": 25,
     "metadata": {},
     "output_type": "execute_result"
    }
   ],
   "source": [
    "dados_espanhol.shape"
   ]
  },
  {
   "cell_type": "code",
   "execution_count": 26,
   "id": "33785e01",
   "metadata": {
    "execution": {
     "iopub.execute_input": "2025-01-08T01:23:31.733751Z",
     "iopub.status.busy": "2025-01-08T01:23:31.733407Z",
     "iopub.status.idle": "2025-01-08T01:23:31.751428Z",
     "shell.execute_reply": "2025-01-08T01:23:31.750414Z"
    },
    "papermill": {
     "duration": 0.036082,
     "end_time": "2025-01-08T01:23:31.753181",
     "exception": false,
     "start_time": "2025-01-08T01:23:31.717099",
     "status": "completed"
    },
    "tags": []
   },
   "outputs": [],
   "source": [
    "from nltk.util import bigrams\n",
    "from nltk.lm.preprocessing import pad_both_ends, padded_everygram_pipeline\n",
    "from nltk.tokenize import WhitespaceTokenizer\n",
    "from sklearn.model_selection import train_test_split\n",
    "\n",
    "port_train, port_test = train_test_split(dados_portugues.questoes_tratadas,\n",
    "                                         test_size = 0.2,\n",
    "                                         random_state = 36)\n",
    "\n",
    "ing_train, ing_test = train_test_split(dados_ingles.questoes_tratadas,\n",
    "                                         test_size = 0.2,\n",
    "                                         random_state = 36)\n",
    "\n",
    "esp_train, esp_test = train_test_split(dados_espanhol.questoes_tratadas,\n",
    "                                         test_size = 0.2,\n",
    "                                         random_state = 36)\n"
   ]
  },
  {
   "cell_type": "code",
   "execution_count": 27,
   "id": "ae1a80d9",
   "metadata": {
    "execution": {
     "iopub.execute_input": "2025-01-08T01:23:31.783640Z",
     "iopub.status.busy": "2025-01-08T01:23:31.783227Z",
     "iopub.status.idle": "2025-01-08T01:23:31.805193Z",
     "shell.execute_reply": "2025-01-08T01:23:31.804125Z"
    },
    "papermill": {
     "duration": 0.039235,
     "end_time": "2025-01-08T01:23:31.806915",
     "exception": false,
     "start_time": "2025-01-08T01:23:31.767680",
     "status": "completed"
    },
    "tags": []
   },
   "outputs": [],
   "source": [
    "todas_questoes_port = ' '.join(port_train)\n",
    "todas_palavras_port = WhitespaceTokenizer().tokenize(todas_questoes_port)\n",
    "#print(todas_palavras_port)"
   ]
  },
  {
   "cell_type": "code",
   "execution_count": 28,
   "id": "98f33971",
   "metadata": {
    "execution": {
     "iopub.execute_input": "2025-01-08T01:23:31.838047Z",
     "iopub.status.busy": "2025-01-08T01:23:31.837702Z",
     "iopub.status.idle": "2025-01-08T01:23:31.841539Z",
     "shell.execute_reply": "2025-01-08T01:23:31.840535Z"
    },
    "papermill": {
     "duration": 0.021571,
     "end_time": "2025-01-08T01:23:31.843128",
     "exception": false,
     "start_time": "2025-01-08T01:23:31.821557",
     "status": "completed"
    },
    "tags": []
   },
   "outputs": [],
   "source": [
    "port_treino_bigram, vocab_port = padded_everygram_pipeline(2,\n",
    "                                                          todas_palavras_port)"
   ]
  },
  {
   "cell_type": "markdown",
   "id": "67d5e7b1",
   "metadata": {
    "papermill": {
     "duration": 0.014145,
     "end_time": "2025-01-08T01:23:31.872198",
     "exception": false,
     "start_time": "2025-01-08T01:23:31.858053",
     "status": "completed"
    },
    "tags": []
   },
   "source": [
    "Bigrama é feito diretamento em cada palavra e separado cada caracter, em vez de ser no texto todo. O fake char é adicionado no início e final de cada palavra para identificar cada uma."
   ]
  },
  {
   "cell_type": "markdown",
   "id": "6ea741f1",
   "metadata": {
    "papermill": {
     "duration": 0.013899,
     "end_time": "2025-01-08T01:23:31.900398",
     "exception": false,
     "start_time": "2025-01-08T01:23:31.886499",
     "status": "completed"
    },
    "tags": []
   },
   "source": [
    "# Treinamento do modelo"
   ]
  },
  {
   "cell_type": "code",
   "execution_count": 29,
   "id": "6111c0fd",
   "metadata": {
    "execution": {
     "iopub.execute_input": "2025-01-08T01:23:31.930174Z",
     "iopub.status.busy": "2025-01-08T01:23:31.929790Z",
     "iopub.status.idle": "2025-01-08T01:23:34.045803Z",
     "shell.execute_reply": "2025-01-08T01:23:34.044662Z"
    },
    "papermill": {
     "duration": 2.133111,
     "end_time": "2025-01-08T01:23:34.047824",
     "exception": false,
     "start_time": "2025-01-08T01:23:31.914713",
     "status": "completed"
    },
    "tags": []
   },
   "outputs": [],
   "source": [
    "from nltk.lm import MLE, NgramCounter, Laplace\n",
    "\n",
    "model_port = MLE(2)\n",
    "model_port.fit(port_treino_bigram, vocab_port)"
   ]
  },
  {
   "cell_type": "code",
   "execution_count": 30,
   "id": "3796e636",
   "metadata": {
    "execution": {
     "iopub.execute_input": "2025-01-08T01:23:34.078788Z",
     "iopub.status.busy": "2025-01-08T01:23:34.078455Z",
     "iopub.status.idle": "2025-01-08T01:23:34.085385Z",
     "shell.execute_reply": "2025-01-08T01:23:34.084284Z"
    },
    "papermill": {
     "duration": 0.024731,
     "end_time": "2025-01-08T01:23:34.087118",
     "exception": false,
     "start_time": "2025-01-08T01:23:34.062387",
     "status": "completed"
    },
    "tags": []
   },
   "outputs": [
    {
     "data": {
      "text/plain": [
       "['</s>', '</s>', 'e', 'l', 'm', '</s>']"
      ]
     },
     "execution_count": 30,
     "metadata": {},
     "output_type": "execute_result"
    }
   ],
   "source": [
    "model_port.generate(num_words = 6)"
   ]
  },
  {
   "cell_type": "markdown",
   "id": "9d9332aa",
   "metadata": {
    "papermill": {
     "duration": 0.014088,
     "end_time": "2025-01-08T01:23:34.115723",
     "exception": false,
     "start_time": "2025-01-08T01:23:34.101635",
     "status": "completed"
    },
    "tags": []
   },
   "source": [
    "Precisa de mais dados para um treinamento mais robusto. No caso, o 'MLE' conseguiu identificar alguns caracteres que vêm em sequência mais comum. e gerou uma palavra não conhecida"
   ]
  },
  {
   "cell_type": "code",
   "execution_count": 31,
   "id": "65e4430b",
   "metadata": {
    "execution": {
     "iopub.execute_input": "2025-01-08T01:23:34.146136Z",
     "iopub.status.busy": "2025-01-08T01:23:34.145720Z",
     "iopub.status.idle": "2025-01-08T01:23:34.151494Z",
     "shell.execute_reply": "2025-01-08T01:23:34.150541Z"
    },
    "papermill": {
     "duration": 0.023057,
     "end_time": "2025-01-08T01:23:34.153118",
     "exception": false,
     "start_time": "2025-01-08T01:23:34.130061",
     "status": "completed"
    },
    "tags": []
   },
   "outputs": [
    {
     "data": {
      "text/plain": [
       "dict_items([('</s>', 5687), ('d', 1359), ('l', 1384), ('i', 539), ('s', 2076), ('r', 2243), ('m', 885), ('c', 395), ('z', 219), ('n', 1138), ('ç', 599), ('y', 24), ('t', 531), ('g', 344), ('v', 304), ('f', 76), ('p', 302), ('q', 63), ('u', 67), ('b', 257), ('j', 48), ('o', 122), ('í', 19), ('x', 15), ('e', 5), ('k', 4), ('w', 1), ('a', 6), ('ú', 1)])"
      ]
     },
     "execution_count": 31,
     "metadata": {},
     "output_type": "execute_result"
    }
   ],
   "source": [
    "model_port.counts[['a']].items()"
   ]
  },
  {
   "cell_type": "markdown",
   "id": "38af811f",
   "metadata": {
    "papermill": {
     "duration": 0.014308,
     "end_time": "2025-01-08T01:23:34.182368",
     "exception": false,
     "start_time": "2025-01-08T01:23:34.168060",
     "status": "completed"
    },
    "tags": []
   },
   "source": [
    "É possível verificar a distribuição de frequência de caracter com 'NgramCounter'.\n",
    "\n",
    "Exemplo: fake char aparece muitas vezes antes do 'a', indicando 'a' ser um caracter de início da palavra."
   ]
  },
  {
   "cell_type": "code",
   "execution_count": 32,
   "id": "563d8c68",
   "metadata": {
    "execution": {
     "iopub.execute_input": "2025-01-08T01:23:34.212658Z",
     "iopub.status.busy": "2025-01-08T01:23:34.212326Z",
     "iopub.status.idle": "2025-01-08T01:23:38.090052Z",
     "shell.execute_reply": "2025-01-08T01:23:38.089194Z"
    },
    "papermill": {
     "duration": 3.894991,
     "end_time": "2025-01-08T01:23:38.091932",
     "exception": false,
     "start_time": "2025-01-08T01:23:34.196941",
     "status": "completed"
    },
    "tags": []
   },
   "outputs": [],
   "source": [
    "def treinar_model_mle(lista_textos):\n",
    "    todas_questoes = ' '.join(lista_textos)\n",
    "    todas_palavras = WhitespaceTokenizer().tokenize(todas_questoes)\n",
    "    bigrams, vocab = padded_everygram_pipeline(2, todas_palavras)\n",
    "    model = MLE(2)\n",
    "    model.fit(bigrams, vocab)\n",
    "    return model\n",
    "\n",
    "model_ing = treinar_model_mle(ing_train)\n",
    "model_esp = treinar_model_mle(esp_train)"
   ]
  },
  {
   "cell_type": "code",
   "execution_count": 33,
   "id": "589ec609",
   "metadata": {
    "execution": {
     "iopub.execute_input": "2025-01-08T01:23:38.122816Z",
     "iopub.status.busy": "2025-01-08T01:23:38.122479Z",
     "iopub.status.idle": "2025-01-08T01:23:38.129487Z",
     "shell.execute_reply": "2025-01-08T01:23:38.128370Z"
    },
    "papermill": {
     "duration": 0.024753,
     "end_time": "2025-01-08T01:23:38.131459",
     "exception": false,
     "start_time": "2025-01-08T01:23:38.106706",
     "status": "completed"
    },
    "tags": []
   },
   "outputs": [
    {
     "name": "stdout",
     "output_type": "stream",
     "text": [
      "212.34353257954896\n"
     ]
    }
   ],
   "source": [
    "def calc_perplexidade(model, texto):\n",
    "    perplexidade = 0\n",
    "    palavras = WhitespaceTokenizer().tokenize(texto)\n",
    "    palavras_fakechar = [list(pad_both_ends(palavra, n = 2)) for palavra in palavras]\n",
    "    palavras_bigrams = [list(bigrams(palavra)) for palavra in palavras_fakechar]\n",
    "\n",
    "    for palavra in palavras_bigrams:\n",
    "        perplexidade += model.perplexity(palavra)\n",
    "\n",
    "    return perplexidade\n",
    "\n",
    "# Teste de funcionamento da função\n",
    "print(calc_perplexidade(model_ing, ing_test.iloc[0]))"
   ]
  },
  {
   "attachments": {
    "96e76826-a8b3-46bd-9fc6-7aa8d976b61c.png": {
     "image/png": "[encoded data removed]"
    }
   },
   "cell_type": "markdown",
   "id": "f04ab88c",
   "metadata": {
    "papermill": {
     "duration": 0.014558,
     "end_time": "2025-01-08T01:23:38.160918",
     "exception": false,
     "start_time": "2025-01-08T01:23:38.146360",
     "status": "completed"
    },
    "tags": []
   },
   "source": [
    "![image.png](attachment:96e76826-a8b3-46bd-9fc6-7aa8d976b61c.png)"
   ]
  },
  {
   "cell_type": "markdown",
   "id": "aa966359",
   "metadata": {
    "papermill": {
     "duration": 0.015073,
     "end_time": "2025-01-08T01:23:38.190681",
     "exception": false,
     "start_time": "2025-01-08T01:23:38.175608",
     "status": "completed"
    },
    "tags": []
   },
   "source": [
    "Para perplexidade não ser infinita, utilizar 'Laplace'"
   ]
  },
  {
   "cell_type": "code",
   "execution_count": 34,
   "id": "0627adf6",
   "metadata": {
    "execution": {
     "iopub.execute_input": "2025-01-08T01:23:38.222115Z",
     "iopub.status.busy": "2025-01-08T01:23:38.221759Z",
     "iopub.status.idle": "2025-01-08T01:23:38.226337Z",
     "shell.execute_reply": "2025-01-08T01:23:38.225379Z"
    },
    "papermill": {
     "duration": 0.022129,
     "end_time": "2025-01-08T01:23:38.227860",
     "exception": false,
     "start_time": "2025-01-08T01:23:38.205731",
     "status": "completed"
    },
    "tags": []
   },
   "outputs": [],
   "source": [
    "def treinar_model_laplace(lista_textos):\n",
    "    todas_questoes = ' '.join(lista_textos)\n",
    "    todas_palavras = WhitespaceTokenizer().tokenize(todas_questoes)\n",
    "    bigrams, vocab = padded_everygram_pipeline(2, todas_palavras)\n",
    "    model = Laplace(2)\n",
    "    model.fit(bigrams, vocab)\n",
    "    return model"
   ]
  },
  {
   "cell_type": "code",
   "execution_count": 35,
   "id": "80e7c4fb",
   "metadata": {
    "execution": {
     "iopub.execute_input": "2025-01-08T01:23:38.258207Z",
     "iopub.status.busy": "2025-01-08T01:23:38.257829Z",
     "iopub.status.idle": "2025-01-08T01:23:39.641659Z",
     "shell.execute_reply": "2025-01-08T01:23:39.640520Z"
    },
    "papermill": {
     "duration": 1.400724,
     "end_time": "2025-01-08T01:23:39.643212",
     "exception": false,
     "start_time": "2025-01-08T01:23:38.242488",
     "status": "completed"
    },
    "tags": []
   },
   "outputs": [
    {
     "name": "stdout",
     "output_type": "stream",
     "text": [
      "213.13655559031736\n"
     ]
    }
   ],
   "source": [
    "model_ing_laplace = treinar_model_laplace(ing_train)\n",
    "print(calc_perplexidade(model_ing_laplace, ing_test.iloc[0]))"
   ]
  },
  {
   "cell_type": "code",
   "execution_count": 36,
   "id": "e8701214",
   "metadata": {
    "execution": {
     "iopub.execute_input": "2025-01-08T01:23:39.673424Z",
     "iopub.status.busy": "2025-01-08T01:23:39.673054Z",
     "iopub.status.idle": "2025-01-08T01:23:39.679555Z",
     "shell.execute_reply": "2025-01-08T01:23:39.678310Z"
    },
    "papermill": {
     "duration": 0.023231,
     "end_time": "2025-01-08T01:23:39.681114",
     "exception": false,
     "start_time": "2025-01-08T01:23:39.657883",
     "status": "completed"
    },
    "tags": []
   },
   "outputs": [
    {
     "name": "stdout",
     "output_type": "stream",
     "text": [
      "1416.6712506935294\n"
     ]
    }
   ],
   "source": [
    "print(calc_perplexidade(model_ing_laplace, port_test.iloc[0]))"
   ]
  },
  {
   "cell_type": "code",
   "execution_count": 37,
   "id": "faad3c3a",
   "metadata": {
    "execution": {
     "iopub.execute_input": "2025-01-08T01:23:39.711289Z",
     "iopub.status.busy": "2025-01-08T01:23:39.710933Z",
     "iopub.status.idle": "2025-01-08T01:23:42.218284Z",
     "shell.execute_reply": "2025-01-08T01:23:42.216986Z"
    },
    "papermill": {
     "duration": 2.524307,
     "end_time": "2025-01-08T01:23:42.220061",
     "exception": false,
     "start_time": "2025-01-08T01:23:39.695754",
     "status": "completed"
    },
    "tags": []
   },
   "outputs": [
    {
     "name": "stdout",
     "output_type": "stream",
     "text": [
      "518.6617577753442\n"
     ]
    }
   ],
   "source": [
    "model_esp_laplace = treinar_model_laplace(esp_train)\n",
    "print(calc_perplexidade(model_esp_laplace, ing_test.iloc[0]))"
   ]
  },
  {
   "cell_type": "code",
   "execution_count": 38,
   "id": "ed92e7dd",
   "metadata": {
    "execution": {
     "iopub.execute_input": "2025-01-08T01:23:42.251151Z",
     "iopub.status.busy": "2025-01-08T01:23:42.250809Z",
     "iopub.status.idle": "2025-01-08T01:23:44.382167Z",
     "shell.execute_reply": "2025-01-08T01:23:44.381131Z"
    },
    "papermill": {
     "duration": 2.148812,
     "end_time": "2025-01-08T01:23:44.383926",
     "exception": false,
     "start_time": "2025-01-08T01:23:42.235114",
     "status": "completed"
    },
    "tags": []
   },
   "outputs": [
    {
     "name": "stdout",
     "output_type": "stream",
     "text": [
      "218.61868771568552\n"
     ]
    }
   ],
   "source": [
    "model_port_laplace = treinar_model_laplace(port_train)\n",
    "print(calc_perplexidade(model_port_laplace, port_test.iloc[0]))"
   ]
  },
  {
   "cell_type": "code",
   "execution_count": 39,
   "id": "c89cdb36",
   "metadata": {
    "execution": {
     "iopub.execute_input": "2025-01-08T01:23:44.414456Z",
     "iopub.status.busy": "2025-01-08T01:23:44.414091Z",
     "iopub.status.idle": "2025-01-08T01:23:44.419154Z",
     "shell.execute_reply": "2025-01-08T01:23:44.418272Z"
    },
    "papermill": {
     "duration": 0.022105,
     "end_time": "2025-01-08T01:23:44.420793",
     "exception": false,
     "start_time": "2025-01-08T01:23:44.398688",
     "status": "completed"
    },
    "tags": []
   },
   "outputs": [],
   "source": [
    "def atribuir_idioma(lista_textos):\n",
    "    idioma = []\n",
    "    for texto in lista_textos:\n",
    "        portugues = calc_perplexidade(model_port_laplace, texto)\n",
    "        ingles = calc_perplexidade(model_ing_laplace, texto)\n",
    "        espanhol = calc_perplexidade(model_esp_laplace, texto)\n",
    "        if ingles >= portugues <= espanhol:\n",
    "            idioma.append('portugues')\n",
    "        elif portugues > ingles < espanhol:\n",
    "            idioma.append('ingles')\n",
    "        else:\n",
    "            idioma.append('espanhol')\n",
    "\n",
    "    return idioma"
   ]
  },
  {
   "cell_type": "code",
   "execution_count": 40,
   "id": "78695d60",
   "metadata": {
    "execution": {
     "iopub.execute_input": "2025-01-08T01:23:44.452914Z",
     "iopub.status.busy": "2025-01-08T01:23:44.452475Z",
     "iopub.status.idle": "2025-01-08T01:23:45.506013Z",
     "shell.execute_reply": "2025-01-08T01:23:45.505057Z"
    },
    "papermill": {
     "duration": 1.071211,
     "end_time": "2025-01-08T01:23:45.507679",
     "exception": false,
     "start_time": "2025-01-08T01:23:44.436468",
     "status": "completed"
    },
    "tags": []
   },
   "outputs": [
    {
     "data": {
      "text/plain": [
       "(98, 0.98)"
      ]
     },
     "execution_count": 40,
     "metadata": {},
     "output_type": "execute_result"
    }
   ],
   "source": [
    "resultados_port = atribuir_idioma(port_test)\n",
    "acc_port = resultados_port.count('portugues')/ len(resultados_port)\n",
    "resultados_port.count('portugues'), acc_port"
   ]
  },
  {
   "cell_type": "code",
   "execution_count": 41,
   "id": "0d065add",
   "metadata": {
    "execution": {
     "iopub.execute_input": "2025-01-08T01:23:45.540317Z",
     "iopub.status.busy": "2025-01-08T01:23:45.539935Z",
     "iopub.status.idle": "2025-01-08T01:23:46.300027Z",
     "shell.execute_reply": "2025-01-08T01:23:46.298955Z"
    },
    "papermill": {
     "duration": 0.778216,
     "end_time": "2025-01-08T01:23:46.301746",
     "exception": false,
     "start_time": "2025-01-08T01:23:45.523530",
     "status": "completed"
    },
    "tags": []
   },
   "outputs": [
    {
     "data": {
      "text/plain": [
       "(100, 1.0)"
      ]
     },
     "execution_count": 41,
     "metadata": {},
     "output_type": "execute_result"
    }
   ],
   "source": [
    "resultados_ing = atribuir_idioma(ing_test)\n",
    "acc_ing = resultados_ing.count('ingles')/ len(resultados_ing)\n",
    "resultados_ing.count('ingles'), acc_ing"
   ]
  },
  {
   "cell_type": "code",
   "execution_count": 42,
   "id": "19194aab",
   "metadata": {
    "execution": {
     "iopub.execute_input": "2025-01-08T01:23:46.333102Z",
     "iopub.status.busy": "2025-01-08T01:23:46.332713Z",
     "iopub.status.idle": "2025-01-08T01:23:47.518477Z",
     "shell.execute_reply": "2025-01-08T01:23:47.517182Z"
    },
    "papermill": {
     "duration": 1.203468,
     "end_time": "2025-01-08T01:23:47.520297",
     "exception": false,
     "start_time": "2025-01-08T01:23:46.316829",
     "status": "completed"
    },
    "tags": []
   },
   "outputs": [
    {
     "data": {
      "text/plain": [
       "(99, 0.99)"
      ]
     },
     "execution_count": 42,
     "metadata": {},
     "output_type": "execute_result"
    }
   ],
   "source": [
    "resultados_esp = atribuir_idioma(esp_test)\n",
    "acc_esp = resultados_esp.count('espanhol')/ len(resultados_esp)\n",
    "resultados_esp.count('espanhol'), acc_esp"
   ]
  },
  {
   "cell_type": "code",
   "execution_count": 43,
   "id": "e559177d",
   "metadata": {
    "execution": {
     "iopub.execute_input": "2025-01-08T01:23:47.552331Z",
     "iopub.status.busy": "2025-01-08T01:23:47.551906Z",
     "iopub.status.idle": "2025-01-08T01:23:47.558881Z",
     "shell.execute_reply": "2025-01-08T01:23:47.557887Z"
    },
    "papermill": {
     "duration": 0.024549,
     "end_time": "2025-01-08T01:23:47.560507",
     "exception": false,
     "start_time": "2025-01-08T01:23:47.535958",
     "status": "completed"
    },
    "tags": []
   },
   "outputs": [
    {
     "data": {
      "text/plain": [
       "['portugues',\n",
       " 'portugues',\n",
       " 'portugues',\n",
       " 'portugues',\n",
       " 'portugues',\n",
       " 'portugues',\n",
       " 'portugues',\n",
       " 'portugues',\n",
       " 'portugues',\n",
       " 'portugues',\n",
       " 'portugues',\n",
       " 'portugues',\n",
       " 'portugues',\n",
       " 'portugues',\n",
       " 'portugues',\n",
       " 'portugues',\n",
       " 'portugues',\n",
       " 'portugues',\n",
       " 'portugues',\n",
       " 'portugues',\n",
       " 'portugues',\n",
       " 'portugues',\n",
       " 'portugues',\n",
       " 'portugues',\n",
       " 'portugues',\n",
       " 'portugues',\n",
       " 'portugues',\n",
       " 'portugues',\n",
       " 'portugues',\n",
       " 'portugues',\n",
       " 'portugues',\n",
       " 'espanhol',\n",
       " 'portugues',\n",
       " 'portugues',\n",
       " 'portugues',\n",
       " 'portugues',\n",
       " 'portugues',\n",
       " 'portugues',\n",
       " 'portugues',\n",
       " 'portugues',\n",
       " 'portugues',\n",
       " 'portugues',\n",
       " 'espanhol',\n",
       " 'portugues',\n",
       " 'portugues',\n",
       " 'portugues',\n",
       " 'portugues',\n",
       " 'portugues',\n",
       " 'portugues',\n",
       " 'portugues',\n",
       " 'portugues',\n",
       " 'portugues',\n",
       " 'portugues',\n",
       " 'portugues',\n",
       " 'portugues',\n",
       " 'portugues',\n",
       " 'portugues',\n",
       " 'portugues',\n",
       " 'portugues',\n",
       " 'portugues',\n",
       " 'portugues',\n",
       " 'portugues',\n",
       " 'portugues',\n",
       " 'portugues',\n",
       " 'portugues',\n",
       " 'portugues',\n",
       " 'portugues',\n",
       " 'portugues',\n",
       " 'portugues',\n",
       " 'portugues',\n",
       " 'portugues',\n",
       " 'portugues',\n",
       " 'portugues',\n",
       " 'portugues',\n",
       " 'portugues',\n",
       " 'portugues',\n",
       " 'portugues',\n",
       " 'portugues',\n",
       " 'portugues',\n",
       " 'portugues',\n",
       " 'portugues',\n",
       " 'portugues',\n",
       " 'portugues',\n",
       " 'portugues',\n",
       " 'portugues',\n",
       " 'portugues',\n",
       " 'portugues',\n",
       " 'portugues',\n",
       " 'portugues',\n",
       " 'portugues',\n",
       " 'portugues',\n",
       " 'portugues',\n",
       " 'portugues',\n",
       " 'portugues',\n",
       " 'portugues',\n",
       " 'portugues',\n",
       " 'portugues',\n",
       " 'portugues',\n",
       " 'portugues',\n",
       " 'portugues']"
      ]
     },
     "execution_count": 43,
     "metadata": {},
     "output_type": "execute_result"
    }
   ],
   "source": [
    "resultados_port"
   ]
  },
  {
   "cell_type": "markdown",
   "id": "cd7fcafe",
   "metadata": {
    "papermill": {
     "duration": 0.015347,
     "end_time": "2025-01-08T01:23:47.591550",
     "exception": false,
     "start_time": "2025-01-08T01:23:47.576203",
     "status": "completed"
    },
    "tags": []
   },
   "source": [
    "# Final"
   ]
  },
  {
   "cell_type": "markdown",
   "id": "a7df7d81",
   "metadata": {
    "papermill": {
     "duration": 0.015016,
     "end_time": "2025-01-08T01:23:47.621783",
     "exception": false,
     "start_time": "2025-01-08T01:23:47.606767",
     "status": "completed"
    },
    "tags": []
   },
   "source": [
    "Feitos:\n",
    "\n",
    "* Aplicações dos Modelos de Linguagem;\n",
    "\n",
    "* Como as Regex podem ser úteis para o tratamento de dados e principalmente para aplicações em NLP;\n",
    "\n",
    "* E os metacaracteres das regex;\n",
    "\n",
    "* Como utilizar Regex em Python;\n",
    "\n",
    "* A usar os métodos re.sub, re.findall e re.compile;\n",
    "\n",
    "* Como utilizar o método re.compile para reduzir o tempo de processamento,principalmente quando o volume de dados é muito grande;\n",
    "\n",
    "* Como tratar dados textuais usando Regex;\n",
    "\n",
    "* Quais os tratamentos são importantes para criação de um modelo de linguagem;\n",
    "\n",
    "* Como refinar o tratamento dos dados;\n",
    "\n",
    "* Regex para remover dígitos e pontuações;\n",
    "\n",
    "* O que são os modelos de linguagem;\n",
    "\n",
    "* Como NLTK nos ajuda na preparação dos dados para construção do ML;\n",
    "\n",
    "* O que são os Fakechars;\n",
    "\n",
    "* O que é o MLE;\n",
    "\n",
    "* Como treinar um modelo de linguagem com NLTK;\n",
    "\n",
    "* Como criar um função para treinar um ML;\n",
    "\n",
    "* Como medir a qualidade de um modelo através da perplexidade;\n",
    "\n",
    "* Como calcular a perplexidade usando NLTK;\n",
    "\n",
    "* O que é perplexidade infinita;\n",
    "\n",
    "* O que é modelo de Laplace;\n",
    "\n",
    "* Como usar o modelo de Laplace para detectar idiomas;"
   ]
  }
 ],
 "metadata": {
  "kaggle": {
   "accelerator": "none",
   "dataSources": [
    {
     "datasetId": 6350802,
     "sourceId": 10265448,
     "sourceType": "datasetVersion"
    }
   ],
   "dockerImageVersionId": 30822,
   "isGpuEnabled": false,
   "isInternetEnabled": true,
   "language": "python",
   "sourceType": "notebook"
  },
  "kernelspec": {
   "display_name": "Python 3",
   "language": "python",
   "name": "python3"
  },
  "language_info": {
   "codemirror_mode": {
    "name": "ipython",
    "version": 3
   },
   "file_extension": ".py",
   "mimetype": "text/x-python",
   "name": "python",
   "nbconvert_exporter": "python",
   "pygments_lexer": "ipython3",
   "version": "3.10.12"
  },
  "papermill": {
   "default_parameters": {},
   "duration": 33.183405,
   "end_time": "2025-01-08T01:23:48.457698",
   "environment_variables": {},
   "exception": null,
   "input_path": "__notebook__.ipynb",
   "output_path": "__notebook__.ipynb",
   "parameters": {},
   "start_time": "2025-01-08T01:23:15.274293",
   "version": "2.6.0"
  }
 },
 "nbformat": 4,
 "nbformat_minor": 5
}
